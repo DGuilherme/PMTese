{
  "nbformat": 4,
  "nbformat_minor": 0,
  "metadata": {
    "colab": {
      "provenance": [],
      "authorship_tag": "ABX9TyNl6wTwezYhU3zvWUgSMBi2",
      "include_colab_link": true
    },
    "kernelspec": {
      "name": "python3",
      "display_name": "Python 3"
    },
    "language_info": {
      "name": "python"
    }
  },
  "cells": [
    {
      "cell_type": "markdown",
      "metadata": {
        "id": "view-in-github",
        "colab_type": "text"
      },
      "source": [
        "<a href=\"https://colab.research.google.com/github/DGuilherme/PMTese/blob/main/TimeSeriesTransformer.ipynb\" target=\"_parent\"><img src=\"https://colab.research.google.com/assets/colab-badge.svg\" alt=\"Open In Colab\"/></a>"
      ]
    },
    {
      "cell_type": "markdown",
      "source": [
        "# Installers"
      ],
      "metadata": {
        "id": "aPCGZCO3-JQQ"
      }
    },
    {
      "cell_type": "code",
      "execution_count": 11,
      "metadata": {
        "colab": {
          "base_uri": "https://localhost:8080/"
        },
        "collapsed": true,
        "id": "jL_pSFOejTNE",
        "outputId": "11a25460-7a70-4397-d56d-cb4c0cdab58a"
      },
      "outputs": [
        {
          "output_type": "stream",
          "name": "stdout",
          "text": [
            "Requirement already satisfied: transformers in /usr/local/lib/python3.10/dist-packages (4.42.4)\n",
            "Requirement already satisfied: torch in /usr/local/lib/python3.10/dist-packages (2.3.1+cu121)\n",
            "Requirement already satisfied: filelock in /usr/local/lib/python3.10/dist-packages (from transformers) (3.15.4)\n",
            "Requirement already satisfied: huggingface-hub<1.0,>=0.23.2 in /usr/local/lib/python3.10/dist-packages (from transformers) (0.23.5)\n",
            "Requirement already satisfied: numpy<2.0,>=1.17 in /usr/local/lib/python3.10/dist-packages (from transformers) (1.26.4)\n",
            "Requirement already satisfied: packaging>=20.0 in /usr/local/lib/python3.10/dist-packages (from transformers) (24.1)\n",
            "Requirement already satisfied: pyyaml>=5.1 in /usr/local/lib/python3.10/dist-packages (from transformers) (6.0.2)\n",
            "Requirement already satisfied: regex!=2019.12.17 in /usr/local/lib/python3.10/dist-packages (from transformers) (2024.5.15)\n",
            "Requirement already satisfied: requests in /usr/local/lib/python3.10/dist-packages (from transformers) (2.32.3)\n",
            "Requirement already satisfied: safetensors>=0.4.1 in /usr/local/lib/python3.10/dist-packages (from transformers) (0.4.4)\n",
            "Requirement already satisfied: tokenizers<0.20,>=0.19 in /usr/local/lib/python3.10/dist-packages (from transformers) (0.19.1)\n",
            "Requirement already satisfied: tqdm>=4.27 in /usr/local/lib/python3.10/dist-packages (from transformers) (4.66.5)\n",
            "Requirement already satisfied: typing-extensions>=4.8.0 in /usr/local/lib/python3.10/dist-packages (from torch) (4.12.2)\n",
            "Requirement already satisfied: sympy in /usr/local/lib/python3.10/dist-packages (from torch) (1.13.1)\n",
            "Requirement already satisfied: networkx in /usr/local/lib/python3.10/dist-packages (from torch) (3.3)\n",
            "Requirement already satisfied: jinja2 in /usr/local/lib/python3.10/dist-packages (from torch) (3.1.4)\n",
            "Requirement already satisfied: fsspec in /usr/local/lib/python3.10/dist-packages (from torch) (2024.6.1)\n",
            "Requirement already satisfied: nvidia-cuda-nvrtc-cu12==12.1.105 in /usr/local/lib/python3.10/dist-packages (from torch) (12.1.105)\n",
            "Requirement already satisfied: nvidia-cuda-runtime-cu12==12.1.105 in /usr/local/lib/python3.10/dist-packages (from torch) (12.1.105)\n",
            "Requirement already satisfied: nvidia-cuda-cupti-cu12==12.1.105 in /usr/local/lib/python3.10/dist-packages (from torch) (12.1.105)\n",
            "Requirement already satisfied: nvidia-cudnn-cu12==8.9.2.26 in /usr/local/lib/python3.10/dist-packages (from torch) (8.9.2.26)\n",
            "Requirement already satisfied: nvidia-cublas-cu12==12.1.3.1 in /usr/local/lib/python3.10/dist-packages (from torch) (12.1.3.1)\n",
            "Requirement already satisfied: nvidia-cufft-cu12==11.0.2.54 in /usr/local/lib/python3.10/dist-packages (from torch) (11.0.2.54)\n",
            "Requirement already satisfied: nvidia-curand-cu12==10.3.2.106 in /usr/local/lib/python3.10/dist-packages (from torch) (10.3.2.106)\n",
            "Requirement already satisfied: nvidia-cusolver-cu12==11.4.5.107 in /usr/local/lib/python3.10/dist-packages (from torch) (11.4.5.107)\n",
            "Requirement already satisfied: nvidia-cusparse-cu12==12.1.0.106 in /usr/local/lib/python3.10/dist-packages (from torch) (12.1.0.106)\n",
            "Requirement already satisfied: nvidia-nccl-cu12==2.20.5 in /usr/local/lib/python3.10/dist-packages (from torch) (2.20.5)\n",
            "Requirement already satisfied: nvidia-nvtx-cu12==12.1.105 in /usr/local/lib/python3.10/dist-packages (from torch) (12.1.105)\n",
            "Requirement already satisfied: triton==2.3.1 in /usr/local/lib/python3.10/dist-packages (from torch) (2.3.1)\n",
            "Requirement already satisfied: nvidia-nvjitlink-cu12 in /usr/local/lib/python3.10/dist-packages (from nvidia-cusolver-cu12==11.4.5.107->torch) (12.6.20)\n",
            "Requirement already satisfied: MarkupSafe>=2.0 in /usr/local/lib/python3.10/dist-packages (from jinja2->torch) (2.1.5)\n",
            "Requirement already satisfied: charset-normalizer<4,>=2 in /usr/local/lib/python3.10/dist-packages (from requests->transformers) (3.3.2)\n",
            "Requirement already satisfied: idna<4,>=2.5 in /usr/local/lib/python3.10/dist-packages (from requests->transformers) (3.7)\n",
            "Requirement already satisfied: urllib3<3,>=1.21.1 in /usr/local/lib/python3.10/dist-packages (from requests->transformers) (2.0.7)\n",
            "Requirement already satisfied: certifi>=2017.4.17 in /usr/local/lib/python3.10/dist-packages (from requests->transformers) (2024.7.4)\n",
            "Requirement already satisfied: mpmath<1.4,>=1.1.0 in /usr/local/lib/python3.10/dist-packages (from sympy->torch) (1.3.0)\n",
            "Requirement already satisfied: pandas in /usr/local/lib/python3.10/dist-packages (2.1.4)\n",
            "Requirement already satisfied: scikit-learn in /usr/local/lib/python3.10/dist-packages (1.3.2)\n",
            "Requirement already satisfied: numpy<2,>=1.22.4 in /usr/local/lib/python3.10/dist-packages (from pandas) (1.26.4)\n",
            "Requirement already satisfied: python-dateutil>=2.8.2 in /usr/local/lib/python3.10/dist-packages (from pandas) (2.8.2)\n",
            "Requirement already satisfied: pytz>=2020.1 in /usr/local/lib/python3.10/dist-packages (from pandas) (2024.1)\n",
            "Requirement already satisfied: tzdata>=2022.1 in /usr/local/lib/python3.10/dist-packages (from pandas) (2024.1)\n",
            "Requirement already satisfied: scipy>=1.5.0 in /usr/local/lib/python3.10/dist-packages (from scikit-learn) (1.13.1)\n",
            "Requirement already satisfied: joblib>=1.1.1 in /usr/local/lib/python3.10/dist-packages (from scikit-learn) (1.4.2)\n",
            "Requirement already satisfied: threadpoolctl>=2.0.0 in /usr/local/lib/python3.10/dist-packages (from scikit-learn) (3.5.0)\n",
            "Requirement already satisfied: six>=1.5 in /usr/local/lib/python3.10/dist-packages (from python-dateutil>=2.8.2->pandas) (1.16.0)\n"
          ]
        }
      ],
      "source": [
        "!pip install transformers torch\n",
        "!pip install pandas scikit-learn"
      ]
    },
    {
      "cell_type": "code",
      "source": [
        "import pandas as pd\n",
        "import numpy as np\n",
        "from sklearn.preprocessing import StandardScaler\n",
        "from sklearn.model_selection import train_test_split\n",
        "import torch\n",
        "from torch.utils.data import DataLoader, TensorDataset\n",
        "import torch.nn as nn\n",
        "import matplotlib.pyplot as plt\n"
      ],
      "metadata": {
        "id": "KyzCDkIPusv4"
      },
      "execution_count": 25,
      "outputs": []
    },
    {
      "cell_type": "markdown",
      "source": [
        "# Read dataset from google drive"
      ],
      "metadata": {
        "id": "Y_w4TKA4-Nef"
      }
    },
    {
      "cell_type": "code",
      "source": [
        "from google.colab import drive\n",
        "drive.mount('/content/drive')\n",
        "\n",
        "column_names = ['id', 'cycle', 'setting1', 'setting2', 'setting3'] + [f'sensor{i}' for i in range(1, 22)]\n"
      ],
      "metadata": {
        "colab": {
          "base_uri": "https://localhost:8080/"
        },
        "id": "Rge7bm9luurb",
        "outputId": "0bd3bf3d-d316-4973-e1ed-ae8862b23ad4"
      },
      "execution_count": 13,
      "outputs": [
        {
          "output_type": "stream",
          "name": "stdout",
          "text": [
            "Drive already mounted at /content/drive; to attempt to forcibly remount, call drive.mount(\"/content/drive\", force_remount=True).\n"
          ]
        }
      ]
    },
    {
      "cell_type": "code",
      "source": [
        "# Load the dataset\n",
        "# /content/drive/MyDrive/Python/predictive-maintenance-main/datasets/cmapss/train_FD001.txt\n",
        "train_data = pd.read_csv('/content/drive/MyDrive/Python/predictive-maintenance-main/datasets/cmapss/train_FD001.txt/train_FD001.txt', delim_whitespace=True, header=None)\n",
        "test_data = pd.read_csv('/content/drive/MyDrive/Python/predictive-maintenance-main/datasets/cmapss/test_FD001.txt/test_FD001.txt', delim_whitespace=True, header=None)\n",
        "rul_data = pd.read_csv('/content/drive/MyDrive/Python/predictive-maintenance-main/datasets/cmapss/RUL_FD001.txt/RUL_FD001.txt', delim_whitespace=True, header=None)\n"
      ],
      "metadata": {
        "id": "rFQjlvh8uxgT"
      },
      "execution_count": 14,
      "outputs": []
    },
    {
      "cell_type": "code",
      "source": [
        "train_data.columns = column_names\n",
        "test_data.columns = column_names\n",
        "rul_data.columns = ['RUL']\n",
        "\n",
        "print('---------------------Train Data---------------------')\n",
        "print(train_data.head())\n",
        "print('---------------------Test Data----------------------')\n",
        "print(test_data.head())\n",
        "print('----------------------RUL Data----------------------')\n",
        "print(rul_data.head())\n",
        "\n",
        "sensor_cols = train_data.columns[2:]  # Exclude 'id' and 'cycle'\n",
        "\n",
        "scaler = StandardScaler()\n",
        "train_data.iloc[:, 5:] = scaler.fit_transform(train_data.iloc[:, 5:])\n",
        "test_data.iloc[:, 5:] = scaler.transform(test_data.iloc[:, 5:])\n"
      ],
      "metadata": {
        "collapsed": true,
        "colab": {
          "base_uri": "https://localhost:8080/"
        },
        "id": "h5yTKeVHfUEB",
        "outputId": "b51f59c2-c7bd-40cf-e2d9-4deee0d4eabf"
      },
      "execution_count": 15,
      "outputs": [
        {
          "output_type": "stream",
          "name": "stdout",
          "text": [
            "---------------------Train Data---------------------\n",
            "   id  cycle  setting1  setting2  setting3  sensor1  sensor2  sensor3  \\\n",
            "0   1      1   -0.0007   -0.0004     100.0   518.67   641.82  1589.70   \n",
            "1   1      2    0.0019   -0.0003     100.0   518.67   642.15  1591.82   \n",
            "2   1      3   -0.0043    0.0003     100.0   518.67   642.35  1587.99   \n",
            "3   1      4    0.0007    0.0000     100.0   518.67   642.35  1582.79   \n",
            "4   1      5   -0.0019   -0.0002     100.0   518.67   642.37  1582.85   \n",
            "\n",
            "   sensor4  sensor5  ...  sensor12  sensor13  sensor14  sensor15  sensor16  \\\n",
            "0  1400.60    14.62  ...    521.66   2388.02   8138.62    8.4195      0.03   \n",
            "1  1403.14    14.62  ...    522.28   2388.07   8131.49    8.4318      0.03   \n",
            "2  1404.20    14.62  ...    522.42   2388.03   8133.23    8.4178      0.03   \n",
            "3  1401.87    14.62  ...    522.86   2388.08   8133.83    8.3682      0.03   \n",
            "4  1406.22    14.62  ...    522.19   2388.04   8133.80    8.4294      0.03   \n",
            "\n",
            "   sensor17  sensor18  sensor19  sensor20  sensor21  \n",
            "0       392      2388     100.0     39.06   23.4190  \n",
            "1       392      2388     100.0     39.00   23.4236  \n",
            "2       390      2388     100.0     38.95   23.3442  \n",
            "3       392      2388     100.0     38.88   23.3739  \n",
            "4       393      2388     100.0     38.90   23.4044  \n",
            "\n",
            "[5 rows x 26 columns]\n",
            "---------------------Test Data----------------------\n",
            "   id  cycle  setting1  setting2  setting3  sensor1  sensor2  sensor3  \\\n",
            "0   1      1    0.0023    0.0003     100.0   518.67   643.02  1585.29   \n",
            "1   1      2   -0.0027   -0.0003     100.0   518.67   641.71  1588.45   \n",
            "2   1      3    0.0003    0.0001     100.0   518.67   642.46  1586.94   \n",
            "3   1      4    0.0042    0.0000     100.0   518.67   642.44  1584.12   \n",
            "4   1      5    0.0014    0.0000     100.0   518.67   642.51  1587.19   \n",
            "\n",
            "   sensor4  sensor5  ...  sensor12  sensor13  sensor14  sensor15  sensor16  \\\n",
            "0  1398.21    14.62  ...    521.72   2388.03   8125.55    8.4052      0.03   \n",
            "1  1395.42    14.62  ...    522.16   2388.06   8139.62    8.3803      0.03   \n",
            "2  1401.34    14.62  ...    521.97   2388.03   8130.10    8.4441      0.03   \n",
            "3  1406.42    14.62  ...    521.38   2388.05   8132.90    8.3917      0.03   \n",
            "4  1401.92    14.62  ...    522.15   2388.03   8129.54    8.4031      0.03   \n",
            "\n",
            "   sensor17  sensor18  sensor19  sensor20  sensor21  \n",
            "0       392      2388     100.0     38.86   23.3735  \n",
            "1       393      2388     100.0     39.02   23.3916  \n",
            "2       393      2388     100.0     39.08   23.4166  \n",
            "3       391      2388     100.0     39.00   23.3737  \n",
            "4       390      2388     100.0     38.99   23.4130  \n",
            "\n",
            "[5 rows x 26 columns]\n",
            "----------------------RUL Data----------------------\n",
            "   RUL\n",
            "0  112\n",
            "1   98\n",
            "2   69\n",
            "3   82\n",
            "4   91\n"
          ]
        }
      ]
    },
    {
      "cell_type": "markdown",
      "source": [
        "# Calcular RUL data test"
      ],
      "metadata": {
        "id": "Ay4w0L6t-bOq"
      }
    },
    {
      "cell_type": "code",
      "source": [
        "# Generate RUL for training data\n",
        "max_cycle = train_data.groupby('id')['cycle'].max()\n",
        "train_data = train_data.merge(max_cycle.reset_index(), on='id', suffixes=('', '_max'))\n",
        "train_data['RUL'] = train_data['cycle_max'] - train_data['cycle']\n",
        "train_data.drop(columns=['cycle_max'], inplace=True)\n",
        "\n",
        "# Calculate RUL for the test data\n",
        "max_cycle_test = test_data.groupby('id')['cycle'].max().reset_index()\n",
        "max_cycle_test.columns = ['id', 'max_cycle']\n",
        "rul_data.columns = ['RUL']\n",
        "max_cycle_test['RUL'] = rul_data['RUL']\n",
        "test_data = test_data.merge(max_cycle_test, on='id')\n",
        "test_data['RUL'] = test_data['RUL'] + test_data['max_cycle'] - test_data['cycle']\n",
        "test_data.drop(columns=['max_cycle'], inplace=True)\n",
        "\n",
        "# Now test_data['RUL'] has the correct RUL values, and you won't pass it to the scaler\n",
        "\n",
        "print('---------------------Train Data---------------------')\n",
        "print(train_data.head())\n",
        "print('---------------------Test Data----------------------')\n",
        "print(test_data.head())\n"
      ],
      "metadata": {
        "colab": {
          "base_uri": "https://localhost:8080/"
        },
        "id": "GfpSsXAZ-nMa",
        "outputId": "008eaa06-8407-4fbe-f24b-88306fd45ec5"
      },
      "execution_count": 16,
      "outputs": [
        {
          "output_type": "stream",
          "name": "stdout",
          "text": [
            "---------------------Train Data---------------------\n",
            "   id  cycle  setting1  setting2  setting3  sensor1   sensor2   sensor3  \\\n",
            "0   1      1   -0.0007   -0.0004     100.0      0.0 -1.721725 -0.134255   \n",
            "1   1      2    0.0019   -0.0003     100.0      0.0 -1.061780  0.211528   \n",
            "2   1      3   -0.0043    0.0003     100.0      0.0 -0.661813 -0.413166   \n",
            "3   1      4    0.0007    0.0000     100.0      0.0 -0.661813 -1.261314   \n",
            "4   1      5   -0.0019   -0.0002     100.0      0.0 -0.621816 -1.251528   \n",
            "\n",
            "    sensor4       sensor5  ...  sensor13  sensor14  sensor15      sensor16  \\\n",
            "0 -0.925936 -1.776357e-15  ... -1.058890 -0.269071 -0.603816 -1.387779e-17   \n",
            "1 -0.643726 -1.776357e-15  ... -0.363646 -0.642845 -0.275852 -1.387779e-17   \n",
            "2 -0.525953 -1.776357e-15  ... -0.919841 -0.551629 -0.649144 -1.387779e-17   \n",
            "3 -0.784831 -1.776357e-15  ... -0.224597 -0.520176 -1.971665 -1.387779e-17   \n",
            "4 -0.301518 -1.776357e-15  ... -0.780793 -0.521748 -0.339845 -1.387779e-17   \n",
            "\n",
            "   sensor17  sensor18  sensor19  sensor20  sensor21  RUL  \n",
            "0 -0.781710         0       0.0  1.348493  1.194427  191  \n",
            "1 -0.781710         0       0.0  1.016528  1.236922  190  \n",
            "2 -2.073094         0       0.0  0.739891  0.503423  189  \n",
            "3 -0.781710         0       0.0  0.352598  0.777792  188  \n",
            "4 -0.136018         0       0.0  0.463253  1.059552  187  \n",
            "\n",
            "[5 rows x 27 columns]\n",
            "---------------------Test Data----------------------\n",
            "   id  cycle  setting1  setting2  setting3  sensor1   sensor2   sensor3  \\\n",
            "0   1      1    0.0023    0.0003     100.0      0.0  0.678077 -0.853550   \n",
            "1   1      2   -0.0027   -0.0003     100.0      0.0 -1.941707 -0.338137   \n",
            "2   1      3    0.0003    0.0001     100.0      0.0 -0.441831 -0.584426   \n",
            "3   1      4    0.0042    0.0000     100.0      0.0 -0.481827 -1.044384   \n",
            "4   1      5    0.0014    0.0000     100.0      0.0 -0.341839 -0.543650   \n",
            "\n",
            "    sensor4       sensor5  ...  sensor13  sensor14  sensor15      sensor16  \\\n",
            "0 -1.191480 -1.776357e-15  ... -0.919841 -0.954235 -0.985107 -1.387779e-17   \n",
            "1 -1.501467 -1.776357e-15  ... -0.502695 -0.216648 -1.649034 -1.387779e-17   \n",
            "2 -0.843717 -1.776357e-15  ... -0.919841 -0.715712  0.052112 -1.387779e-17   \n",
            "3 -0.279297 -1.776357e-15  ... -0.641744 -0.568929 -1.345067 -1.387779e-17   \n",
            "4 -0.779276 -1.776357e-15  ... -0.919841 -0.745069 -1.041101 -1.387779e-17   \n",
            "\n",
            "   sensor17  sensor18  sensor19  sensor20  sensor21  RUL  \n",
            "0 -0.781710         0       0.0  0.241943  0.774097  142  \n",
            "1 -0.136018         0       0.0  1.127183  0.941305  141  \n",
            "2 -0.136018         0       0.0  1.459148  1.172256  140  \n",
            "3 -1.427402         0       0.0  1.016528  0.775945  139  \n",
            "4 -2.073094         0       0.0  0.961200  1.138999  138  \n",
            "\n",
            "[5 rows x 27 columns]\n"
          ]
        }
      ]
    },
    {
      "cell_type": "markdown",
      "source": [
        "# Pre processing"
      ],
      "metadata": {
        "id": "pzjfKVjF-Vf9"
      }
    },
    {
      "cell_type": "code",
      "source": [
        "# Prepare sequences for the transformer model\n",
        "def create_sequences(data, seq_length=50):\n",
        "    sequences = []\n",
        "    for unit in data['id'].unique():\n",
        "        unit_data = data[data['id'] == unit].reset_index(drop=True)\n",
        "        for start in range(len(unit_data) - seq_length + 1):\n",
        "            end = start + seq_length\n",
        "            seq_X = unit_data.iloc[start:end, 2:-1].values  # Select settings and sensor columns\n",
        "            seq_y = unit_data.iloc[end-1]['RUL']\n",
        "            sequences.append((seq_X, seq_y))\n",
        "    return sequences\n",
        "\n",
        "seq_length = 50\n",
        "train_sequences = create_sequences(train_data, seq_length)\n",
        "test_sequences = create_sequences(test_data, seq_length)"
      ],
      "metadata": {
        "id": "Zog9Rmx_7YeN"
      },
      "execution_count": 17,
      "outputs": []
    },
    {
      "cell_type": "code",
      "source": [
        "# Split training data into training and validation sets\n",
        "train_X, val_X, train_y, val_y = train_test_split(\n",
        "    [seq[0] for seq in train_sequences],\n",
        "    [seq[1] for seq in train_sequences],\n",
        "    test_size=0.2,\n",
        "    random_state=42\n",
        ")\n",
        "\n",
        "# Convert to numpy arrays\n",
        "train_X = np.array(train_X)\n",
        "train_y = np.array(train_y)\n",
        "val_X = np.array(val_X)\n",
        "val_y = np.array(val_y)\n",
        "test_X = np.array([seq[0] for seq in test_sequences])\n",
        "test_y = np.array([seq[1] for seq in test_sequences])\n",
        "\n",
        "# Convert to PyTorch tensors\n",
        "import torch\n",
        "train_X = torch.tensor(train_X, dtype=torch.float32)\n",
        "train_y = torch.tensor(train_y, dtype=torch.float32)\n",
        "val_X = torch.tensor(val_X, dtype=torch.float32)\n",
        "val_y = torch.tensor(val_y, dtype=torch.float32)\n",
        "test_X = torch.tensor(test_X, dtype=torch.float32)\n",
        "test_y = torch.tensor(test_y, dtype=torch.float32)"
      ],
      "metadata": {
        "id": "Lo20Hijv7dfy"
      },
      "execution_count": 18,
      "outputs": []
    },
    {
      "cell_type": "markdown",
      "source": [
        "# Define model"
      ],
      "metadata": {
        "id": "1QitaCFp_cga"
      }
    },
    {
      "cell_type": "code",
      "source": [
        "import torch.nn as nn\n",
        "\n",
        "class TimeSeriesTransformer(nn.Module):\n",
        "    def __init__(self, input_dim, model_dim, num_heads, num_layers, output_dim):\n",
        "        super(TimeSeriesTransformer, self).__init__()\n",
        "        self.model_dim = model_dim\n",
        "        self.encoder_layer = nn.TransformerEncoderLayer(d_model=model_dim, nhead=num_heads)\n",
        "        self.transformer_encoder = nn.TransformerEncoder(self.encoder_layer, num_layers=num_layers)\n",
        "        self.fc = nn.Linear(model_dim, output_dim)\n",
        "        self.input_projection = nn.Linear(input_dim, model_dim)\n",
        "\n",
        "    def forward(self, src):\n",
        "        src = self.input_projection(src)\n",
        "        src = src.permute(1, 0, 2)  # Transformer expects (seq_len, batch_size, model_dim)\n",
        "        output = self.transformer_encoder(src)\n",
        "        output = output.mean(dim=0)  # Pooling\n",
        "        output = self.fc(output)\n",
        "        return output\n",
        "\n",
        "# Define model\n",
        "input_dim = train_X.shape[2]\n",
        "model_dim = 64\n",
        "num_heads = 8\n",
        "num_layers = 4\n",
        "output_dim = 1\n",
        "\n",
        "model = TimeSeriesTransformer(input_dim, model_dim, num_heads, num_layers, output_dim)\n"
      ],
      "metadata": {
        "colab": {
          "base_uri": "https://localhost:8080/"
        },
        "id": "knti5qQT7mmj",
        "outputId": "71f2f0ea-03a5-4888-b192-623a1d76342d"
      },
      "execution_count": 19,
      "outputs": [
        {
          "output_type": "stream",
          "name": "stderr",
          "text": [
            "/usr/local/lib/python3.10/dist-packages/torch/nn/modules/transformer.py:306: UserWarning: enable_nested_tensor is True, but self.use_nested_tensor is False because encoder_layer.self_attn.batch_first was not True(use batch_first for better inference performance)\n",
            "  warnings.warn(f\"enable_nested_tensor is True, but self.use_nested_tensor is False because {why_not_sparsity_fast_path}\")\n"
          ]
        }
      ]
    },
    {
      "cell_type": "markdown",
      "source": [
        "#Train Model\n"
      ],
      "metadata": {
        "id": "JF0RiZZf7qCL"
      }
    },
    {
      "cell_type": "code",
      "source": [
        "# Training setup\n",
        "criterion = nn.MSELoss()\n",
        "optimizer = torch.optim.Adam(model.parameters(), lr=0.001)\n",
        "n_epochs = 20\n",
        "batch_size = 32\n",
        "\n",
        "# Create DataLoader\n",
        "train_dataset = TensorDataset(train_X, train_y)\n",
        "val_dataset = TensorDataset(val_X, val_y)\n",
        "train_loader = DataLoader(train_dataset, batch_size=batch_size, shuffle=True)\n",
        "val_loader = DataLoader(val_dataset, batch_size=batch_size, shuffle=False)\n",
        "\n",
        "train_losses = []\n",
        "val_losses = []\n",
        "\n",
        "# Training loop\n",
        "for epoch in range(n_epochs):\n",
        "    model.train()\n",
        "    train_loss = 0.0\n",
        "    for X_batch, y_batch in train_loader:\n",
        "        optimizer.zero_grad()\n",
        "        outputs = model(X_batch)\n",
        "        loss = criterion(outputs.squeeze(), y_batch)\n",
        "        loss.backward()\n",
        "        optimizer.step()\n",
        "        train_loss += loss.item()\n",
        "    train_loss /= len(train_loader)\n",
        "    train_losses.append(train_loss)\n",
        "\n",
        "    model.eval()\n",
        "    val_loss = 0.0\n",
        "    with torch.no_grad():\n",
        "        for X_batch, y_batch in val_loader:\n",
        "            outputs = model(X_batch)\n",
        "            loss = criterion(outputs.squeeze(), y_batch)\n",
        "            val_loss += loss.item()\n",
        "    val_loss /= len(val_loader)\n",
        "    val_losses.append(val_loss)\n",
        "\n",
        "    print(f'Epoch {epoch+1}/{n_epochs}, Train Loss: {train_loss:.4f}, Val Loss: {val_loss:.4f}')\n"
      ],
      "metadata": {
        "colab": {
          "base_uri": "https://localhost:8080/"
        },
        "id": "Mtv3QRHZ7t1U",
        "outputId": "5a6e404d-9ddf-4e0f-99da-9c552997ade5"
      },
      "execution_count": 20,
      "outputs": [
        {
          "output_type": "stream",
          "name": "stdout",
          "text": [
            "Epoch 1/20, Train Loss: 6961.0463, Val Loss: 4003.1171\n",
            "Epoch 2/20, Train Loss: 3495.1080, Val Loss: 3261.7386\n",
            "Epoch 3/20, Train Loss: 3257.0310, Val Loss: 3275.3136\n",
            "Epoch 4/20, Train Loss: 3294.7233, Val Loss: 3283.9925\n",
            "Epoch 5/20, Train Loss: 3290.9521, Val Loss: 3274.3409\n",
            "Epoch 6/20, Train Loss: 3296.0790, Val Loss: 3286.6404\n",
            "Epoch 7/20, Train Loss: 3310.7769, Val Loss: 3283.5477\n",
            "Epoch 8/20, Train Loss: 3300.3669, Val Loss: 3285.4580\n",
            "Epoch 9/20, Train Loss: 3301.6189, Val Loss: 3290.1745\n",
            "Epoch 10/20, Train Loss: 3300.3685, Val Loss: 3292.4012\n",
            "Epoch 11/20, Train Loss: 3222.9487, Val Loss: 3300.5768\n",
            "Epoch 12/20, Train Loss: 3300.5116, Val Loss: 3271.3684\n",
            "Epoch 13/20, Train Loss: 3299.1063, Val Loss: 3269.0447\n",
            "Epoch 14/20, Train Loss: 3301.5798, Val Loss: 3282.7662\n",
            "Epoch 15/20, Train Loss: 3298.5166, Val Loss: 3291.8551\n",
            "Epoch 16/20, Train Loss: 3298.6936, Val Loss: 3282.8039\n",
            "Epoch 17/20, Train Loss: 3298.8549, Val Loss: 3292.1077\n",
            "Epoch 18/20, Train Loss: 3296.9961, Val Loss: 3288.7447\n",
            "Epoch 19/20, Train Loss: 3260.9814, Val Loss: 3097.1121\n",
            "Epoch 20/20, Train Loss: 3261.3907, Val Loss: 3333.3024\n"
          ]
        }
      ]
    },
    {
      "cell_type": "markdown",
      "source": [
        "# Evalute Model\n"
      ],
      "metadata": {
        "id": "vLyxnZtH7x0W"
      }
    },
    {
      "cell_type": "code",
      "source": [
        "# Convert test data into DataLoader\n",
        "test_dataset = TensorDataset(test_X, test_y)\n",
        "test_loader = DataLoader(test_dataset, batch_size=batch_size, shuffle=False)\n",
        "\n",
        "# Evaluate the model on the test set\n",
        "model.eval()\n",
        "test_loss = 0.0\n",
        "test_predictions = []\n",
        "\n",
        "with torch.no_grad():\n",
        "    for X_batch, y_batch in test_loader:\n",
        "        outputs = model(X_batch)\n",
        "        loss = criterion(outputs.squeeze(), y_batch)\n",
        "        test_loss += loss.item()\n",
        "        test_predictions.append(outputs.squeeze().cpu().numpy())\n",
        "\n",
        "test_loss /= len(test_loader)\n",
        "print(f'Test Loss: {test_loss:.4f}')\n",
        "\n",
        "# Flatten test_predictions to match test_y\n",
        "test_predictions = np.concatenate(test_predictions)\n"
      ],
      "metadata": {
        "colab": {
          "base_uri": "https://localhost:8080/"
        },
        "id": "H_Ny_2ulqcXp",
        "outputId": "90899687-0dca-4836-fa07-89a480fc8a83"
      },
      "execution_count": 21,
      "outputs": [
        {
          "output_type": "stream",
          "name": "stdout",
          "text": [
            "Test Loss: 3365.5456\n"
          ]
        }
      ]
    },
    {
      "cell_type": "code",
      "source": [
        "torch.save(model.state_dict(), 'turbofan_transformer_model.pth')\n"
      ],
      "metadata": {
        "id": "ARgzKed073gC"
      },
      "execution_count": 22,
      "outputs": []
    },
    {
      "cell_type": "markdown",
      "source": [
        "# Results\n"
      ],
      "metadata": {
        "id": "-FacuZ_eqpWs"
      }
    },
    {
      "cell_type": "code",
      "source": [
        "from sklearn.metrics import mean_squared_error, mean_absolute_error\n",
        "\n",
        "# Convert test_y to numpy\n",
        "test_y_np = test_y.cpu().numpy()\n",
        "\n",
        "# Calculate RMSE and MAE\n",
        "rmse = mean_squared_error(test_y_np, test_predictions, squared=False)\n",
        "mae = mean_absolute_error(test_y_np, test_predictions)\n",
        "\n",
        "print(f'RMSE: {rmse:.4f}')\n",
        "print(f'MAE: {mae:.4f}')\n"
      ],
      "metadata": {
        "colab": {
          "base_uri": "https://localhost:8080/"
        },
        "id": "v13s3E5LqxbE",
        "outputId": "7d669b13-a760-4948-f03c-56c7cb5ff6d2"
      },
      "execution_count": 23,
      "outputs": [
        {
          "metadata": {
            "tags": null
          },
          "name": "stdout",
          "output_type": "stream",
          "text": [
            "RMSE: 58.0134\n",
            "MAE: 45.9310\n"
          ]
        }
      ]
    },
    {
      "cell_type": "markdown",
      "source": [
        "## Loss Curves and Scatter plot"
      ],
      "metadata": {
        "id": "RNdYhXifsNvC"
      }
    },
    {
      "cell_type": "code",
      "source": [
        "plt.figure(figsize=(10, 5))\n",
        "plt.plot(range(1, n_epochs + 1), train_losses, label='Training Loss')\n",
        "plt.plot(range(1, n_epochs + 1), val_losses, label='Validation Loss')\n",
        "plt.xlabel('Epoch')\n",
        "plt.ylabel('Loss')\n",
        "plt.legend()\n",
        "plt.title('Training and Validation Loss Over Epochs')\n",
        "plt.show()\n"
      ],
      "metadata": {
        "colab": {
          "base_uri": "https://localhost:8080/",
          "height": 487
        },
        "id": "IYXpkhsfsWBO",
        "outputId": "dbadd756-8d11-44c9-e6ac-3c11bd00bed9"
      },
      "execution_count": 26,
      "outputs": [
        {
          "output_type": "display_data",
          "data": {
            "text/plain": [
              "<Figure size 1000x500 with 1 Axes>"
            ],
            "image/png": "[encoded data removed]"
          },
          "metadata": {}
        }
      ]
    },
    {
      "cell_type": "code",
      "source": [
        "plt.figure(figsize=(10, 5))\n",
        "plt.scatter(test_y_np, test_predictions, alpha=0.6)\n",
        "plt.plot([test_y_np.min(), test_y_np.max()], [test_y_np.min(), test_y_np.max()], 'r--')\n",
        "plt.xlabel('True RUL')\n",
        "plt.ylabel('Predicted RUL')\n",
        "plt.title('Predicted RUL vs True RUL')\n",
        "plt.show()\n"
      ],
      "metadata": {
        "colab": {
          "base_uri": "https://localhost:8080/",
          "height": 487
        },
        "id": "B5sVZXElsYjY",
        "outputId": "6399d8cd-a217-436e-f891-6ab70563bb81"
      },
      "execution_count": 27,
      "outputs": [
        {
          "output_type": "display_data",
          "data": {
            "text/plain": [
              "<Figure size 1000x500 with 1 Axes>"
            ],
            "image/png": "[encoded data removed]"
          },
          "metadata": {}
        }
      ]
    },
    {
      "cell_type": "code",
      "source": [
        "print(f\"Performance Summary:\\nRMSE: {rmse:.4f}\\nMAE: {mae:.4f}\\nTest Loss (MSE): {test_loss:.4f}\")\n"
      ],
      "metadata": {
        "colab": {
          "base_uri": "https://localhost:8080/"
        },
        "id": "IpoUD5clq0KN",
        "outputId": "b1ff4409-7fcc-4c8b-cafb-555ae6c5913a"
      },
      "execution_count": 29,
      "outputs": [
        {
          "output_type": "stream",
          "name": "stdout",
          "text": [
            "Performance Summary:\n",
            "RMSE: 58.0134\n",
            "MAE: 45.9310\n",
            "Test Loss (MSE): 3365.5456\n"
          ]
        }
      ]
    }
  ]
}