{
  "nbformat": 4,
  "nbformat_minor": 0,
  "metadata": {
    "colab": {
      "provenance": [],
      "authorship_tag": "ABX9TyOGJosNh5cdUBCYVt8MowKV",
      "include_colab_link": true
    },
    "kernelspec": {
      "name": "python3",
      "display_name": "Python 3"
    },
    "language_info": {
      "name": "python"
    }
  },
  "cells": [
    {
      "cell_type": "markdown",
      "metadata": {
        "id": "view-in-github",
        "colab_type": "text"
      },
      "source": [
        "<a href=\"https://colab.research.google.com/github/DGuilherme/PMTese/blob/main/ConvolutionalTransformer.ipynb\" target=\"_parent\"><img src=\"https://colab.research.google.com/assets/colab-badge.svg\" alt=\"Open In Colab\"/></a>"
      ]
    },
    {
      "cell_type": "markdown",
      "source": [
        "#Installers"
      ],
      "metadata": {
        "id": "yBZsRhOeDxLu"
      }
    },
    {
      "cell_type": "code",
      "execution_count": 1,
      "metadata": {
        "colab": {
          "base_uri": "https://localhost:8080/"
        },
        "collapsed": true,
        "id": "Sh3w-RndDlXk",
        "outputId": "7c43cf20-af10-46a3-db8c-f6d4edb16661"
      },
      "outputs": [
        {
          "output_type": "stream",
          "name": "stdout",
          "text": [
            "Requirement already satisfied: transformers in /usr/local/lib/python3.11/dist-packages (4.48.3)\n",
            "Requirement already satisfied: torch in /usr/local/lib/python3.11/dist-packages (2.5.1+cu124)\n",
            "Requirement already satisfied: filelock in /usr/local/lib/python3.11/dist-packages (from transformers) (3.17.0)\n",
            "Requirement already satisfied: huggingface-hub<1.0,>=0.24.0 in /usr/local/lib/python3.11/dist-packages (from transformers) (0.28.1)\n",
            "Requirement already satisfied: numpy>=1.17 in /usr/local/lib/python3.11/dist-packages (from transformers) (1.26.4)\n",
            "Requirement already satisfied: packaging>=20.0 in /usr/local/lib/python3.11/dist-packages (from transformers) (24.2)\n",
            "Requirement already satisfied: pyyaml>=5.1 in /usr/local/lib/python3.11/dist-packages (from transformers) (6.0.2)\n",
            "Requirement already satisfied: regex!=2019.12.17 in /usr/local/lib/python3.11/dist-packages (from transformers) (2024.11.6)\n",
            "Requirement already satisfied: requests in /usr/local/lib/python3.11/dist-packages (from transformers) (2.32.3)\n",
            "Requirement already satisfied: tokenizers<0.22,>=0.21 in /usr/local/lib/python3.11/dist-packages (from transformers) (0.21.0)\n",
            "Requirement already satisfied: safetensors>=0.4.1 in /usr/local/lib/python3.11/dist-packages (from transformers) (0.5.3)\n",
            "Requirement already satisfied: tqdm>=4.27 in /usr/local/lib/python3.11/dist-packages (from transformers) (4.67.1)\n",
            "Requirement already satisfied: typing-extensions>=4.8.0 in /usr/local/lib/python3.11/dist-packages (from torch) (4.12.2)\n",
            "Requirement already satisfied: networkx in /usr/local/lib/python3.11/dist-packages (from torch) (3.4.2)\n",
            "Requirement already satisfied: jinja2 in /usr/local/lib/python3.11/dist-packages (from torch) (3.1.5)\n",
            "Requirement already satisfied: fsspec in /usr/local/lib/python3.11/dist-packages (from torch) (2024.10.0)\n",
            "Requirement already satisfied: nvidia-cuda-nvrtc-cu12==12.4.127 in /usr/local/lib/python3.11/dist-packages (from torch) (12.4.127)\n",
            "Requirement already satisfied: nvidia-cuda-runtime-cu12==12.4.127 in /usr/local/lib/python3.11/dist-packages (from torch) (12.4.127)\n",
            "Requirement already satisfied: nvidia-cuda-cupti-cu12==12.4.127 in /usr/local/lib/python3.11/dist-packages (from torch) (12.4.127)\n",
            "Requirement already satisfied: nvidia-cudnn-cu12==9.1.0.70 in /usr/local/lib/python3.11/dist-packages (from torch) (9.1.0.70)\n",
            "Requirement already satisfied: nvidia-cublas-cu12==12.4.5.8 in /usr/local/lib/python3.11/dist-packages (from torch) (12.4.5.8)\n",
            "Requirement already satisfied: nvidia-cufft-cu12==11.2.1.3 in /usr/local/lib/python3.11/dist-packages (from torch) (11.2.1.3)\n",
            "Requirement already satisfied: nvidia-curand-cu12==10.3.5.147 in /usr/local/lib/python3.11/dist-packages (from torch) (10.3.5.147)\n",
            "Requirement already satisfied: nvidia-cusolver-cu12==11.6.1.9 in /usr/local/lib/python3.11/dist-packages (from torch) (11.6.1.9)\n",
            "Requirement already satisfied: nvidia-cusparse-cu12==12.3.1.170 in /usr/local/lib/python3.11/dist-packages (from torch) (12.3.1.170)\n",
            "Requirement already satisfied: nvidia-nccl-cu12==2.21.5 in /usr/local/lib/python3.11/dist-packages (from torch) (2.21.5)\n",
            "Requirement already satisfied: nvidia-nvtx-cu12==12.4.127 in /usr/local/lib/python3.11/dist-packages (from torch) (12.4.127)\n",
            "Requirement already satisfied: nvidia-nvjitlink-cu12==12.4.127 in /usr/local/lib/python3.11/dist-packages (from torch) (12.4.127)\n",
            "Requirement already satisfied: triton==3.1.0 in /usr/local/lib/python3.11/dist-packages (from torch) (3.1.0)\n",
            "Requirement already satisfied: sympy==1.13.1 in /usr/local/lib/python3.11/dist-packages (from torch) (1.13.1)\n",
            "Requirement already satisfied: mpmath<1.4,>=1.1.0 in /usr/local/lib/python3.11/dist-packages (from sympy==1.13.1->torch) (1.3.0)\n",
            "Requirement already satisfied: MarkupSafe>=2.0 in /usr/local/lib/python3.11/dist-packages (from jinja2->torch) (3.0.2)\n",
            "Requirement already satisfied: charset-normalizer<4,>=2 in /usr/local/lib/python3.11/dist-packages (from requests->transformers) (3.4.1)\n",
            "Requirement already satisfied: idna<4,>=2.5 in /usr/local/lib/python3.11/dist-packages (from requests->transformers) (3.10)\n",
            "Requirement already satisfied: urllib3<3,>=1.21.1 in /usr/local/lib/python3.11/dist-packages (from requests->transformers) (2.3.0)\n",
            "Requirement already satisfied: certifi>=2017.4.17 in /usr/local/lib/python3.11/dist-packages (from requests->transformers) (2025.1.31)\n",
            "Requirement already satisfied: pandas in /usr/local/lib/python3.11/dist-packages (2.2.2)\n",
            "Requirement already satisfied: scikit-learn in /usr/local/lib/python3.11/dist-packages (1.6.1)\n",
            "Requirement already satisfied: numpy>=1.23.2 in /usr/local/lib/python3.11/dist-packages (from pandas) (1.26.4)\n",
            "Requirement already satisfied: python-dateutil>=2.8.2 in /usr/local/lib/python3.11/dist-packages (from pandas) (2.8.2)\n",
            "Requirement already satisfied: pytz>=2020.1 in /usr/local/lib/python3.11/dist-packages (from pandas) (2025.1)\n",
            "Requirement already satisfied: tzdata>=2022.7 in /usr/local/lib/python3.11/dist-packages (from pandas) (2025.1)\n",
            "Requirement already satisfied: scipy>=1.6.0 in /usr/local/lib/python3.11/dist-packages (from scikit-learn) (1.13.1)\n",
            "Requirement already satisfied: joblib>=1.2.0 in /usr/local/lib/python3.11/dist-packages (from scikit-learn) (1.4.2)\n",
            "Requirement already satisfied: threadpoolctl>=3.1.0 in /usr/local/lib/python3.11/dist-packages (from scikit-learn) (3.5.0)\n",
            "Requirement already satisfied: six>=1.5 in /usr/local/lib/python3.11/dist-packages (from python-dateutil>=2.8.2->pandas) (1.17.0)\n"
          ]
        }
      ],
      "source": [
        "!pip install transformers torch\n",
        "!pip install pandas scikit-learn"
      ]
    },
    {
      "cell_type": "code",
      "source": [
        "import pandas as pd\n",
        "import numpy as np\n",
        "from sklearn.preprocessing import StandardScaler\n",
        "from sklearn.model_selection import train_test_split\n",
        "import torch\n",
        "from torch.utils.data import DataLoader, TensorDataset\n",
        "import torch.nn as nn\n",
        "import matplotlib.pyplot as plt"
      ],
      "metadata": {
        "id": "0ql35x_hDsj0"
      },
      "execution_count": 2,
      "outputs": []
    },
    {
      "cell_type": "markdown",
      "source": [
        "# Read Dataset\n"
      ],
      "metadata": {
        "id": "8LmTQkXdDzTd"
      }
    },
    {
      "cell_type": "code",
      "source": [
        "from google.colab import drive\n",
        "drive.mount('/content/drive')\n",
        "\n",
        "column_names = ['id', 'cycle', 'setting1', 'setting2', 'setting3'] + [f'sensor{i}' for i in range(1, 22)]\n",
        "\n",
        "# Load the dataset\n",
        "# /content/drive/MyDrive/Python/predictive-maintenance-main/datasets/cmapss/train_FD001.txt\n",
        "train_data = pd.read_csv('/content/drive/MyDrive/Python/predictive-maintenance-main/datasets/cmapss/train_FD001.txt/train_FD001.txt', delim_whitespace=True, header=None)\n",
        "test_data = pd.read_csv('/content/drive/MyDrive/Python/predictive-maintenance-main/datasets/cmapss/test_FD001.txt/test_FD001.txt', delim_whitespace=True, header=None)\n",
        "rul_data = pd.read_csv('/content/drive/MyDrive/Python/predictive-maintenance-main/datasets/cmapss/RUL_FD001.txt/RUL_FD001.txt', delim_whitespace=True, header=None)\n",
        "\n"
      ],
      "metadata": {
        "colab": {
          "base_uri": "https://localhost:8080/"
        },
        "id": "ysy11cygD1T0",
        "outputId": "35df30d1-0284-4d1c-a76e-72d021284fdb"
      },
      "execution_count": 3,
      "outputs": [
        {
          "output_type": "stream",
          "name": "stdout",
          "text": [
            "Drive already mounted at /content/drive; to attempt to forcibly remount, call drive.mount(\"/content/drive\", force_remount=True).\n"
          ]
        },
        {
          "output_type": "stream",
          "name": "stderr",
          "text": [
            "<ipython-input-3-62a81ff78bb3>:8: FutureWarning: The 'delim_whitespace' keyword in pd.read_csv is deprecated and will be removed in a future version. Use ``sep='\\s+'`` instead\n",
            "  train_data = pd.read_csv('/content/drive/MyDrive/Python/predictive-maintenance-main/datasets/cmapss/train_FD001.txt/train_FD001.txt', delim_whitespace=True, header=None)\n",
            "<ipython-input-3-62a81ff78bb3>:9: FutureWarning: The 'delim_whitespace' keyword in pd.read_csv is deprecated and will be removed in a future version. Use ``sep='\\s+'`` instead\n",
            "  test_data = pd.read_csv('/content/drive/MyDrive/Python/predictive-maintenance-main/datasets/cmapss/test_FD001.txt/test_FD001.txt', delim_whitespace=True, header=None)\n",
            "<ipython-input-3-62a81ff78bb3>:10: FutureWarning: The 'delim_whitespace' keyword in pd.read_csv is deprecated and will be removed in a future version. Use ``sep='\\s+'`` instead\n",
            "  rul_data = pd.read_csv('/content/drive/MyDrive/Python/predictive-maintenance-main/datasets/cmapss/RUL_FD001.txt/RUL_FD001.txt', delim_whitespace=True, header=None)\n"
          ]
        }
      ]
    },
    {
      "cell_type": "code",
      "source": [
        "train_data.columns = column_names\n",
        "test_data.columns = column_names\n",
        "rul_data.columns = ['RUL']\n",
        "\n",
        "print('---------------------Train Data---------------------')\n",
        "print(train_data.head())\n",
        "print('---------------------Test Data----------------------')\n",
        "print(test_data.head())\n",
        "print('----------------------RUL Data----------------------')\n",
        "print(rul_data.head())\n",
        "\n",
        "sensor_cols = train_data.columns[2:]  # Exclude 'id' and 'cycle'\n",
        "\n",
        "scaler = StandardScaler()\n",
        "train_data.iloc[:, 5:] = scaler.fit_transform(train_data.iloc[:, 5:])\n",
        "test_data.iloc[:, 5:] = scaler.transform(test_data.iloc[:, 5:])\n",
        "\n",
        "# Generate RUL for training data\n",
        "max_cycle = train_data.groupby('id')['cycle'].max()\n",
        "train_data = train_data.merge(max_cycle.reset_index(), on='id', suffixes=('', '_max'))\n",
        "train_data['RUL'] = train_data['cycle_max'] - train_data['cycle']\n",
        "train_data.drop(columns=['cycle_max'], inplace=True)\n",
        "\n",
        "# Calculate RUL for the test data\n",
        "max_cycle_test = test_data.groupby('id')['cycle'].max().reset_index()\n",
        "max_cycle_test.columns = ['id', 'max_cycle']\n",
        "rul_data.columns = ['RUL']\n",
        "max_cycle_test['RUL'] = rul_data['RUL']\n",
        "test_data = test_data.merge(max_cycle_test, on='id')\n",
        "test_data['RUL'] = test_data['RUL'] + test_data['max_cycle'] - test_data['cycle']\n",
        "test_data.drop(columns=['max_cycle'], inplace=True)\n",
        "\n",
        "# Now test_data['RUL'] has the correct RUL values, and you won't pass it to the scaler\n",
        "\n",
        "print('---------------------Train Data---------------------')\n",
        "print(train_data.head())\n",
        "print('---------------------Test Data----------------------')\n",
        "print(test_data.head())"
      ],
      "metadata": {
        "colab": {
          "base_uri": "https://localhost:8080/"
        },
        "id": "4RYo_kwVD_Wy",
        "outputId": "45858b23-882a-43da-9dd4-96fcf04747fd"
      },
      "execution_count": 4,
      "outputs": [
        {
          "output_type": "stream",
          "name": "stderr",
          "text": [
            "<ipython-input-4-b49d75945ca7>:15: FutureWarning: Setting an item of incompatible dtype is deprecated and will raise in a future error of pandas. Value '[-0.78170979 -0.78170979 -2.07309423 ...  3.09244354  1.15536688\n",
            "  1.8010591 ]' has dtype incompatible with int64, please explicitly cast to a compatible dtype first.\n",
            "  train_data.iloc[:, 5:] = scaler.fit_transform(train_data.iloc[:, 5:])\n"
          ]
        },
        {
          "output_type": "stream",
          "name": "stdout",
          "text": [
            "---------------------Train Data---------------------\n",
            "   id  cycle  setting1  setting2  setting3  sensor1  sensor2  sensor3  \\\n",
            "0   1      1   -0.0007   -0.0004     100.0   518.67   641.82  1589.70   \n",
            "1   1      2    0.0019   -0.0003     100.0   518.67   642.15  1591.82   \n",
            "2   1      3   -0.0043    0.0003     100.0   518.67   642.35  1587.99   \n",
            "3   1      4    0.0007    0.0000     100.0   518.67   642.35  1582.79   \n",
            "4   1      5   -0.0019   -0.0002     100.0   518.67   642.37  1582.85   \n",
            "\n",
            "   sensor4  sensor5  ...  sensor12  sensor13  sensor14  sensor15  sensor16  \\\n",
            "0  1400.60    14.62  ...    521.66   2388.02   8138.62    8.4195      0.03   \n",
            "1  1403.14    14.62  ...    522.28   2388.07   8131.49    8.4318      0.03   \n",
            "2  1404.20    14.62  ...    522.42   2388.03   8133.23    8.4178      0.03   \n",
            "3  1401.87    14.62  ...    522.86   2388.08   8133.83    8.3682      0.03   \n",
            "4  1406.22    14.62  ...    522.19   2388.04   8133.80    8.4294      0.03   \n",
            "\n",
            "   sensor17  sensor18  sensor19  sensor20  sensor21  \n",
            "0       392      2388     100.0     39.06   23.4190  \n",
            "1       392      2388     100.0     39.00   23.4236  \n",
            "2       390      2388     100.0     38.95   23.3442  \n",
            "3       392      2388     100.0     38.88   23.3739  \n",
            "4       393      2388     100.0     38.90   23.4044  \n",
            "\n",
            "[5 rows x 26 columns]\n",
            "---------------------Test Data----------------------\n",
            "   id  cycle  setting1  setting2  setting3  sensor1  sensor2  sensor3  \\\n",
            "0   1      1    0.0023    0.0003     100.0   518.67   643.02  1585.29   \n",
            "1   1      2   -0.0027   -0.0003     100.0   518.67   641.71  1588.45   \n",
            "2   1      3    0.0003    0.0001     100.0   518.67   642.46  1586.94   \n",
            "3   1      4    0.0042    0.0000     100.0   518.67   642.44  1584.12   \n",
            "4   1      5    0.0014    0.0000     100.0   518.67   642.51  1587.19   \n",
            "\n",
            "   sensor4  sensor5  ...  sensor12  sensor13  sensor14  sensor15  sensor16  \\\n",
            "0  1398.21    14.62  ...    521.72   2388.03   8125.55    8.4052      0.03   \n",
            "1  1395.42    14.62  ...    522.16   2388.06   8139.62    8.3803      0.03   \n",
            "2  1401.34    14.62  ...    521.97   2388.03   8130.10    8.4441      0.03   \n",
            "3  1406.42    14.62  ...    521.38   2388.05   8132.90    8.3917      0.03   \n",
            "4  1401.92    14.62  ...    522.15   2388.03   8129.54    8.4031      0.03   \n",
            "\n",
            "   sensor17  sensor18  sensor19  sensor20  sensor21  \n",
            "0       392      2388     100.0     38.86   23.3735  \n",
            "1       393      2388     100.0     39.02   23.3916  \n",
            "2       393      2388     100.0     39.08   23.4166  \n",
            "3       391      2388     100.0     39.00   23.3737  \n",
            "4       390      2388     100.0     38.99   23.4130  \n",
            "\n",
            "[5 rows x 26 columns]\n",
            "----------------------RUL Data----------------------\n",
            "   RUL\n",
            "0  112\n",
            "1   98\n",
            "2   69\n",
            "3   82\n",
            "4   91\n"
          ]
        },
        {
          "output_type": "stream",
          "name": "stderr",
          "text": [
            "<ipython-input-4-b49d75945ca7>:16: FutureWarning: Setting an item of incompatible dtype is deprecated and will raise in a future error of pandas. Value '[-0.78170979 -0.13601757 -0.13601757 ...  1.15536688  1.15536688\n",
            "  1.8010591 ]' has dtype incompatible with int64, please explicitly cast to a compatible dtype first.\n",
            "  test_data.iloc[:, 5:] = scaler.transform(test_data.iloc[:, 5:])\n"
          ]
        },
        {
          "output_type": "stream",
          "name": "stdout",
          "text": [
            "---------------------Train Data---------------------\n",
            "   id  cycle  setting1  setting2  setting3  sensor1   sensor2   sensor3  \\\n",
            "0   1      1   -0.0007   -0.0004     100.0      0.0 -1.721725 -0.134255   \n",
            "1   1      2    0.0019   -0.0003     100.0      0.0 -1.061780  0.211528   \n",
            "2   1      3   -0.0043    0.0003     100.0      0.0 -0.661813 -0.413166   \n",
            "3   1      4    0.0007    0.0000     100.0      0.0 -0.661813 -1.261314   \n",
            "4   1      5   -0.0019   -0.0002     100.0      0.0 -0.621816 -1.251528   \n",
            "\n",
            "    sensor4       sensor5  ...  sensor13  sensor14  sensor15      sensor16  \\\n",
            "0 -0.925936 -1.776357e-15  ... -1.058890 -0.269071 -0.603816 -1.387779e-17   \n",
            "1 -0.643726 -1.776357e-15  ... -0.363646 -0.642845 -0.275852 -1.387779e-17   \n",
            "2 -0.525953 -1.776357e-15  ... -0.919841 -0.551629 -0.649144 -1.387779e-17   \n",
            "3 -0.784831 -1.776357e-15  ... -0.224597 -0.520176 -1.971665 -1.387779e-17   \n",
            "4 -0.301518 -1.776357e-15  ... -0.780793 -0.521748 -0.339845 -1.387779e-17   \n",
            "\n",
            "   sensor17  sensor18  sensor19  sensor20  sensor21  RUL  \n",
            "0 -0.781710         0       0.0  1.348493  1.194427  191  \n",
            "1 -0.781710         0       0.0  1.016528  1.236922  190  \n",
            "2 -2.073094         0       0.0  0.739891  0.503423  189  \n",
            "3 -0.781710         0       0.0  0.352598  0.777792  188  \n",
            "4 -0.136018         0       0.0  0.463253  1.059552  187  \n",
            "\n",
            "[5 rows x 27 columns]\n",
            "---------------------Test Data----------------------\n",
            "   id  cycle  setting1  setting2  setting3  sensor1   sensor2   sensor3  \\\n",
            "0   1      1    0.0023    0.0003     100.0      0.0  0.678077 -0.853550   \n",
            "1   1      2   -0.0027   -0.0003     100.0      0.0 -1.941707 -0.338137   \n",
            "2   1      3    0.0003    0.0001     100.0      0.0 -0.441831 -0.584426   \n",
            "3   1      4    0.0042    0.0000     100.0      0.0 -0.481827 -1.044384   \n",
            "4   1      5    0.0014    0.0000     100.0      0.0 -0.341839 -0.543650   \n",
            "\n",
            "    sensor4       sensor5  ...  sensor13  sensor14  sensor15      sensor16  \\\n",
            "0 -1.191480 -1.776357e-15  ... -0.919841 -0.954235 -0.985107 -1.387779e-17   \n",
            "1 -1.501467 -1.776357e-15  ... -0.502695 -0.216648 -1.649034 -1.387779e-17   \n",
            "2 -0.843717 -1.776357e-15  ... -0.919841 -0.715712  0.052112 -1.387779e-17   \n",
            "3 -0.279297 -1.776357e-15  ... -0.641744 -0.568929 -1.345067 -1.387779e-17   \n",
            "4 -0.779276 -1.776357e-15  ... -0.919841 -0.745069 -1.041101 -1.387779e-17   \n",
            "\n",
            "   sensor17  sensor18  sensor19  sensor20  sensor21  RUL  \n",
            "0 -0.781710         0       0.0  0.241943  0.774097  142  \n",
            "1 -0.136018         0       0.0  1.127183  0.941305  141  \n",
            "2 -0.136018         0       0.0  1.459148  1.172256  140  \n",
            "3 -1.427402         0       0.0  1.016528  0.775945  139  \n",
            "4 -2.073094         0       0.0  0.961200  1.138999  138  \n",
            "\n",
            "[5 rows x 27 columns]\n"
          ]
        }
      ]
    },
    {
      "cell_type": "markdown",
      "source": [
        "# Create Sequences"
      ],
      "metadata": {
        "id": "fk3qwZOtEDYk"
      }
    },
    {
      "cell_type": "markdown",
      "source": [
        "![image.png](data:image/png;base64,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)"
      ],
      "metadata": {
        "id": "5yCZgpp_T9Km"
      }
    },
    {
      "cell_type": "code",
      "source": [
        "# Prepare sequences for the transformer model\n",
        "def create_sequences_cnn(data, seq_length=50):\n",
        "    sequences = []\n",
        "    for unit in data['id'].unique():\n",
        "        unit_data = data[data['id'] == unit].reset_index(drop=True)\n",
        "        for start in range(len(unit_data) - seq_length + 1):\n",
        "            end = start + seq_length\n",
        "            seq_X = unit_data.iloc[start:end, 2:-1].values.T  # Select settings and sensor columns\n",
        "            seq_y = unit_data.iloc[end-1]['RUL']\n",
        "            sequences.append((seq_X, seq_y))\n",
        "    return sequences\n",
        "\n",
        "seq_length = 50\n",
        "train_sequences = create_sequences_cnn(train_data, seq_length)\n",
        "test_sequences = create_sequences_cnn(test_data, seq_length)\n",
        "\n",
        "# Split training data into training and validation sets\n",
        "train_X, val_X, train_y, val_y = train_test_split(\n",
        "    [seq[0] for seq in train_sequences],\n",
        "    [seq[1] for seq in train_sequences],\n",
        "    test_size=0.2,\n",
        "    random_state=42\n",
        ")\n",
        "\n",
        "# Convert to numpy arrays\n",
        "train_X = np.array(train_X)\n",
        "train_y = np.array(train_y)\n",
        "val_X = np.array(val_X)\n",
        "val_y = np.array(val_y)\n",
        "test_X = np.array([seq[0] for seq in test_sequences])\n",
        "test_y = np.array([seq[1] for seq in test_sequences])\n",
        "\n",
        "# Convert to PyTorch tensors\n",
        "import torch\n",
        "train_X = torch.tensor(train_X, dtype=torch.float32)\n",
        "train_y = torch.tensor(train_y, dtype=torch.float32)\n",
        "val_X = torch.tensor(val_X, dtype=torch.float32)\n",
        "val_y = torch.tensor(val_y, dtype=torch.float32)\n",
        "test_X = torch.tensor(test_X, dtype=torch.float32)\n",
        "test_y = torch.tensor(test_y, dtype=torch.float32)"
      ],
      "metadata": {
        "id": "hJfC8Q9QEFgw"
      },
      "execution_count": 5,
      "outputs": []
    },
    {
      "cell_type": "code",
      "source": [
        "print(\"train_X shape:\", train_X.shape)  # Should be (num_samples, num_features, seq_length)\n",
        "print(\"train_y shape:\", train_y.shape)  # Should be (num_samples,)\n",
        "print(\"First train_X sample:\\n\", train_X[0])  # Print first input sequence\n",
        "print(\"First train_y sample:\", train_y[0])    # Print corresponding RUL"
      ],
      "metadata": {
        "colab": {
          "base_uri": "https://localhost:8080/"
        },
        "id": "IA97Ix_mX-Ly",
        "outputId": "2c6179b8-0b3e-4311-b2a3-fc036fe82d06"
      },
      "execution_count": 6,
      "outputs": [
        {
          "output_type": "stream",
          "name": "stdout",
          "text": [
            "train_X shape: torch.Size([12584, 24, 50])\n",
            "train_y shape: torch.Size([12584])\n",
            "First train_X sample:\n",
            " tensor([[ 3.3000e-03,  3.0000e-04,  2.1000e-03,  ..., -8.0000e-04,\n",
            "         -3.8000e-03, -1.1000e-03],\n",
            "        [ 3.0000e-04,  1.0000e-04,  4.0000e-04,  ..., -2.0000e-04,\n",
            "          3.0000e-04, -2.0000e-04],\n",
            "        [ 1.0000e+02,  1.0000e+02,  1.0000e+02,  ...,  1.0000e+02,\n",
            "          1.0000e+02,  1.0000e+02],\n",
            "        ...,\n",
            "        [ 0.0000e+00,  0.0000e+00,  0.0000e+00,  ...,  0.0000e+00,\n",
            "          0.0000e+00,  0.0000e+00],\n",
            "        [ 8.5055e-01,  6.2924e-01,  7.9522e-01,  ..., -8.6461e-01,\n",
            "         -5.3264e-01, -4.2199e-01],\n",
            "        [ 4.2213e-01,  3.3067e-01,  2.9649e-01,  ..., -3.7142e-01,\n",
            "         -1.6038e+00, -4.9983e-01]])\n",
            "First train_y sample: tensor(32.)\n"
          ]
        }
      ]
    },
    {
      "cell_type": "code",
      "source": [
        "class ConvTransformer(nn.Module):\n",
        "    def __init__(self, input_dim, seq_length, conv_channels=64, transformer_dim=None, num_heads=4, num_layers=2, dropout=0.1):\n",
        "        super(ConvTransformer, self).__init__()\n",
        "\n",
        "        # 1. Convolutional Feature Extractor\n",
        "        self.conv1 = nn.Conv1d(in_channels=input_dim, out_channels=conv_channels, kernel_size=3, padding=1)\n",
        "        self.conv2 = nn.Conv1d(in_channels=conv_channels, out_channels=conv_channels, kernel_size=3, padding=1)\n",
        "        self.conv_bn = nn.BatchNorm1d(conv_channels)\n",
        "        self.conv_relu = nn.ReLU()\n",
        "\n",
        "        # Ensure Transformer Dim Matches Conv Output\n",
        "        if transformer_dim is None:\n",
        "            transformer_dim = conv_channels  # Match CNN output channels\n",
        "\n",
        "        # 2. Transformer Encoder\n",
        "        self.pos_embedding = nn.Parameter(torch.randn(1, seq_length, transformer_dim))\n",
        "        encoder_layer = nn.TransformerEncoderLayer(d_model=transformer_dim, nhead=num_heads, dropout=dropout)\n",
        "        self.transformer_encoder = nn.TransformerEncoder(encoder_layer, num_layers=num_layers)\n",
        "\n",
        "        # 3. Fully Connected Output Layer\n",
        "        self.fc = nn.Linear(transformer_dim, 1)\n",
        "\n",
        "    def forward(self, x):\n",
        "        # Apply CNN layers (input: [batch, features, sequence])\n",
        "        x = self.conv_relu(self.conv_bn(self.conv1(x)))\n",
        "        x = self.conv_relu(self.conv_bn(self.conv2(x)))\n",
        "\n",
        "        # Reshape for Transformer input: [batch, seq_length, features]\n",
        "        x = x.permute(0, 2, 1)  # (batch, conv_channels, seq_length) → (batch, seq_length, conv_channels)\n",
        "\n",
        "        # Add Positional Encoding\n",
        "        x = x + self.pos_embedding[:, :x.shape[1], :]\n",
        "\n",
        "        # Transformer Encoder\n",
        "        x = self.transformer_encoder(x)\n",
        "\n",
        "        # Global Average Pooling & Output\n",
        "        x = torch.mean(x, dim=1)  # Pooling\n",
        "        x = self.fc(x).squeeze()  # Output single RUL value\n",
        "        return x\n",
        "\n",
        "\n"
      ],
      "metadata": {
        "id": "X5WmvbxbYWQs"
      },
      "execution_count": 14,
      "outputs": []
    },
    {
      "cell_type": "code",
      "source": [
        "from torch.utils.data import Dataset, DataLoader\n",
        "\n",
        "class TurbofanDataset(Dataset):\n",
        "    def __init__(self, X, y):\n",
        "        self.X = X  # Already in (batch, features, seq_length)\n",
        "        self.y = y\n",
        "\n",
        "    def __len__(self):\n",
        "        return len(self.y)\n",
        "\n",
        "    def __getitem__(self, idx):\n",
        "        return self.X[idx], self.y[idx]\n",
        "\n",
        "# Define batch size\n",
        "batch_size = 64\n",
        "\n",
        "# Create dataset objects\n",
        "train_dataset = TurbofanDataset(train_X, train_y)\n",
        "val_dataset = TurbofanDataset(val_X, val_y)\n",
        "test_dataset = TurbofanDataset(test_X, test_y)\n",
        "\n",
        "# Create DataLoaders\n",
        "train_loader = DataLoader(train_dataset, batch_size=batch_size, shuffle=True)\n",
        "val_loader = DataLoader(val_dataset, batch_size=batch_size, shuffle=False)\n",
        "test_loader = DataLoader(test_dataset, batch_size=batch_size, shuffle=False)\n"
      ],
      "metadata": {
        "id": "F_D04F1wZKq2"
      },
      "execution_count": 15,
      "outputs": []
    },
    {
      "cell_type": "code",
      "source": [
        "import torch.optim as optim\n",
        "import numpy as np\n",
        "\n",
        "# Define RMSE Loss Function\n",
        "def rmse_loss(y_pred, y_true):\n",
        "    return torch.sqrt(nn.MSELoss()(y_pred, y_true))\n",
        "\n",
        "def train_model(model, train_loader, val_loader, epochs=50, lr=0.001):\n",
        "    device = torch.device(\"cuda\" if torch.cuda.is_available() else \"cpu\")\n",
        "    model.to(device)\n",
        "\n",
        "    criterion = nn.MSELoss()  # Use MSE Loss\n",
        "    optimizer = optim.Adam(model.parameters(), lr=lr)\n",
        "\n",
        "    best_val_loss = float(\"inf\")\n",
        "\n",
        "    for epoch in range(epochs):\n",
        "        model.train()\n",
        "        train_loss = 0\n",
        "        for X_batch, y_batch in train_loader:\n",
        "            X_batch, y_batch = X_batch.to(device), y_batch.to(device)\n",
        "\n",
        "            optimizer.zero_grad()\n",
        "            outputs = model(X_batch)\n",
        "            loss = criterion(outputs, y_batch)\n",
        "            loss.backward()\n",
        "            optimizer.step()\n",
        "\n",
        "            train_loss += loss.item()\n",
        "\n",
        "        # Validation\n",
        "        model.eval()\n",
        "        val_loss = 0\n",
        "        with torch.no_grad():\n",
        "            for X_val, y_val in val_loader:\n",
        "                X_val, y_val = X_val.to(device), y_val.to(device)\n",
        "                val_outputs = model(X_val)\n",
        "                val_loss += criterion(val_outputs, y_val).item()\n",
        "\n",
        "        # Compute average losses\n",
        "        train_loss /= len(train_loader)\n",
        "        val_loss /= len(val_loader)\n",
        "\n",
        "        print(f\"Epoch {epoch+1}/{epochs} - Train Loss: {train_loss:.4f} - Val Loss: {val_loss:.4f}\")\n",
        "\n",
        "        # Save best model\n",
        "        if val_loss < best_val_loss:\n",
        "            best_val_loss = val_loss\n",
        "            torch.save(model.state_dict(), \"best_model.pth\")\n",
        "            print(\"Model saved!\")\n",
        "\n",
        "def evaluate_model(model, test_loader):\n",
        "    device = torch.device(\"cuda\" if torch.cuda.is_available() else \"cpu\")\n",
        "    model.to(device)\n",
        "    model.eval()\n",
        "\n",
        "    predictions = []\n",
        "    actuals = []\n",
        "    with torch.no_grad():\n",
        "        for X_test, y_test in test_loader:\n",
        "            X_test, y_test = X_test.to(device), y_test.to(device)\n",
        "            y_pred = model(X_test)\n",
        "            predictions.extend(y_pred.cpu().numpy())\n",
        "            actuals.extend(y_test.cpu().numpy())\n",
        "\n",
        "    # Compute RMSE\n",
        "    rmse = np.sqrt(np.mean((np.array(predictions) - np.array(actuals)) ** 2))\n",
        "    print(f\"Test RMSE: {rmse:.4f}\")\n",
        "    return predictions, actuals\n"
      ],
      "metadata": {
        "id": "kWbo1f25YYe8"
      },
      "execution_count": 16,
      "outputs": []
    },
    {
      "cell_type": "code",
      "source": [
        "# Initialize Model\n",
        "input_dim = train_X.shape[1]  # Number of features\n",
        "seq_length = train_X.shape[2]  # Sequence length\n",
        "\n",
        "model = ConvTransformer(input_dim=input_dim, seq_length=seq_length)\n",
        "\n",
        "# Train the Model\n",
        "train_model(model, train_loader, val_loader, epochs=50, lr=0.001)\n",
        "\n",
        "# Load Best Model\n",
        "model.load_state_dict(torch.load(\"best_model.pth\"))\n",
        "\n",
        "# Evaluate\n",
        "predictions, actuals = evaluate_model(model, test_loader)\n"
      ],
      "metadata": {
        "colab": {
          "base_uri": "https://localhost:8080/",
          "height": 532
        },
        "id": "olVaSgaVYZs5",
        "outputId": "ba5ab67c-bc81-4ac1-c1cf-bad53a0bf531"
      },
      "execution_count": 17,
      "outputs": [
        {
          "output_type": "stream",
          "name": "stderr",
          "text": [
            "/usr/local/lib/python3.11/dist-packages/torch/nn/modules/transformer.py:379: UserWarning: enable_nested_tensor is True, but self.use_nested_tensor is False because encoder_layer.self_attn.batch_first was not True(use batch_first for better inference performance)\n",
            "  warnings.warn(\n"
          ]
        },
        {
          "output_type": "stream",
          "name": "stdout",
          "text": [
            "Epoch 1/50 - Train Loss: 8404.8005 - Val Loss: 6460.4619\n",
            "Model saved!\n",
            "Epoch 2/50 - Train Loss: 5256.6898 - Val Loss: 3929.4805\n",
            "Model saved!\n",
            "Epoch 3/50 - Train Loss: 2868.0947 - Val Loss: 3308.5589\n",
            "Model saved!\n",
            "Epoch 4/50 - Train Loss: 1758.3488 - Val Loss: 4019.8638\n"
          ]
        },
        {
          "output_type": "error",
          "ename": "KeyboardInterrupt",
          "evalue": "",
          "traceback": [
            "\u001b[0;31m---------------------------------------------------------------------------\u001b[0m",
            "\u001b[0;31mKeyboardInterrupt\u001b[0m                         Traceback (most recent call last)",
            "\u001b[0;32m<ipython-input-17-5b53398dbf47>\u001b[0m in \u001b[0;36m<cell line: 0>\u001b[0;34m()\u001b[0m\n\u001b[1;32m      6\u001b[0m \u001b[0;34m\u001b[0m\u001b[0m\n\u001b[1;32m      7\u001b[0m \u001b[0;31m# Train the Model\u001b[0m\u001b[0;34m\u001b[0m\u001b[0;34m\u001b[0m\u001b[0m\n\u001b[0;32m----> 8\u001b[0;31m \u001b[0mtrain_model\u001b[0m\u001b[0;34m(\u001b[0m\u001b[0mmodel\u001b[0m\u001b[0;34m,\u001b[0m \u001b[0mtrain_loader\u001b[0m\u001b[0;34m,\u001b[0m \u001b[0mval_loader\u001b[0m\u001b[0;34m,\u001b[0m \u001b[0mepochs\u001b[0m\u001b[0;34m=\u001b[0m\u001b[0;36m50\u001b[0m\u001b[0;34m,\u001b[0m \u001b[0mlr\u001b[0m\u001b[0;34m=\u001b[0m\u001b[0;36m0.001\u001b[0m\u001b[0;34m)\u001b[0m\u001b[0;34m\u001b[0m\u001b[0;34m\u001b[0m\u001b[0m\n\u001b[0m\u001b[1;32m      9\u001b[0m \u001b[0;34m\u001b[0m\u001b[0m\n\u001b[1;32m     10\u001b[0m \u001b[0;31m# Load Best Model\u001b[0m\u001b[0;34m\u001b[0m\u001b[0;34m\u001b[0m\u001b[0m\n",
            "\u001b[0;32m<ipython-input-16-3ad88988ad21>\u001b[0m in \u001b[0;36mtrain_model\u001b[0;34m(model, train_loader, val_loader, epochs, lr)\u001b[0m\n\u001b[1;32m     22\u001b[0m \u001b[0;34m\u001b[0m\u001b[0m\n\u001b[1;32m     23\u001b[0m             \u001b[0moptimizer\u001b[0m\u001b[0;34m.\u001b[0m\u001b[0mzero_grad\u001b[0m\u001b[0;34m(\u001b[0m\u001b[0;34m)\u001b[0m\u001b[0;34m\u001b[0m\u001b[0;34m\u001b[0m\u001b[0m\n\u001b[0;32m---> 24\u001b[0;31m             \u001b[0moutputs\u001b[0m \u001b[0;34m=\u001b[0m \u001b[0mmodel\u001b[0m\u001b[0;34m(\u001b[0m\u001b[0mX_batch\u001b[0m\u001b[0;34m)\u001b[0m\u001b[0;34m\u001b[0m\u001b[0;34m\u001b[0m\u001b[0m\n\u001b[0m\u001b[1;32m     25\u001b[0m             \u001b[0mloss\u001b[0m \u001b[0;34m=\u001b[0m \u001b[0mcriterion\u001b[0m\u001b[0;34m(\u001b[0m\u001b[0moutputs\u001b[0m\u001b[0;34m,\u001b[0m \u001b[0my_batch\u001b[0m\u001b[0;34m)\u001b[0m\u001b[0;34m\u001b[0m\u001b[0;34m\u001b[0m\u001b[0m\n\u001b[1;32m     26\u001b[0m             \u001b[0mloss\u001b[0m\u001b[0;34m.\u001b[0m\u001b[0mbackward\u001b[0m\u001b[0;34m(\u001b[0m\u001b[0;34m)\u001b[0m\u001b[0;34m\u001b[0m\u001b[0;34m\u001b[0m\u001b[0m\n",
            "\u001b[0;32m/usr/local/lib/python3.11/dist-packages/torch/nn/modules/module.py\u001b[0m in \u001b[0;36m_wrapped_call_impl\u001b[0;34m(self, *args, **kwargs)\u001b[0m\n\u001b[1;32m   1734\u001b[0m             \u001b[0;32mreturn\u001b[0m \u001b[0mself\u001b[0m\u001b[0;34m.\u001b[0m\u001b[0m_compiled_call_impl\u001b[0m\u001b[0;34m(\u001b[0m\u001b[0;34m*\u001b[0m\u001b[0margs\u001b[0m\u001b[0;34m,\u001b[0m \u001b[0;34m**\u001b[0m\u001b[0mkwargs\u001b[0m\u001b[0;34m)\u001b[0m  \u001b[0;31m# type: ignore[misc]\u001b[0m\u001b[0;34m\u001b[0m\u001b[0;34m\u001b[0m\u001b[0m\n\u001b[1;32m   1735\u001b[0m         \u001b[0;32melse\u001b[0m\u001b[0;34m:\u001b[0m\u001b[0;34m\u001b[0m\u001b[0;34m\u001b[0m\u001b[0m\n\u001b[0;32m-> 1736\u001b[0;31m             \u001b[0;32mreturn\u001b[0m \u001b[0mself\u001b[0m\u001b[0;34m.\u001b[0m\u001b[0m_call_impl\u001b[0m\u001b[0;34m(\u001b[0m\u001b[0;34m*\u001b[0m\u001b[0margs\u001b[0m\u001b[0;34m,\u001b[0m \u001b[0;34m**\u001b[0m\u001b[0mkwargs\u001b[0m\u001b[0;34m)\u001b[0m\u001b[0;34m\u001b[0m\u001b[0;34m\u001b[0m\u001b[0m\n\u001b[0m\u001b[1;32m   1737\u001b[0m \u001b[0;34m\u001b[0m\u001b[0m\n\u001b[1;32m   1738\u001b[0m     \u001b[0;31m# torchrec tests the code consistency with the following code\u001b[0m\u001b[0;34m\u001b[0m\u001b[0;34m\u001b[0m\u001b[0m\n",
            "\u001b[0;32m/usr/local/lib/python3.11/dist-packages/torch/nn/modules/module.py\u001b[0m in \u001b[0;36m_call_impl\u001b[0;34m(self, *args, **kwargs)\u001b[0m\n\u001b[1;32m   1745\u001b[0m                 \u001b[0;32mor\u001b[0m \u001b[0m_global_backward_pre_hooks\u001b[0m \u001b[0;32mor\u001b[0m \u001b[0m_global_backward_hooks\u001b[0m\u001b[0;34m\u001b[0m\u001b[0;34m\u001b[0m\u001b[0m\n\u001b[1;32m   1746\u001b[0m                 or _global_forward_hooks or _global_forward_pre_hooks):\n\u001b[0;32m-> 1747\u001b[0;31m             \u001b[0;32mreturn\u001b[0m \u001b[0mforward_call\u001b[0m\u001b[0;34m(\u001b[0m\u001b[0;34m*\u001b[0m\u001b[0margs\u001b[0m\u001b[0;34m,\u001b[0m \u001b[0;34m**\u001b[0m\u001b[0mkwargs\u001b[0m\u001b[0;34m)\u001b[0m\u001b[0;34m\u001b[0m\u001b[0;34m\u001b[0m\u001b[0m\n\u001b[0m\u001b[1;32m   1748\u001b[0m \u001b[0;34m\u001b[0m\u001b[0m\n\u001b[1;32m   1749\u001b[0m         \u001b[0mresult\u001b[0m \u001b[0;34m=\u001b[0m \u001b[0;32mNone\u001b[0m\u001b[0;34m\u001b[0m\u001b[0;34m\u001b[0m\u001b[0m\n",
            "\u001b[0;32m<ipython-input-14-7c2ab30ba335>\u001b[0m in \u001b[0;36mforward\u001b[0;34m(self, x)\u001b[0m\n\u001b[1;32m     33\u001b[0m \u001b[0;34m\u001b[0m\u001b[0m\n\u001b[1;32m     34\u001b[0m         \u001b[0;31m# Transformer Encoder\u001b[0m\u001b[0;34m\u001b[0m\u001b[0;34m\u001b[0m\u001b[0m\n\u001b[0;32m---> 35\u001b[0;31m         \u001b[0mx\u001b[0m \u001b[0;34m=\u001b[0m \u001b[0mself\u001b[0m\u001b[0;34m.\u001b[0m\u001b[0mtransformer_encoder\u001b[0m\u001b[0;34m(\u001b[0m\u001b[0mx\u001b[0m\u001b[0;34m)\u001b[0m\u001b[0;34m\u001b[0m\u001b[0;34m\u001b[0m\u001b[0m\n\u001b[0m\u001b[1;32m     36\u001b[0m \u001b[0;34m\u001b[0m\u001b[0m\n\u001b[1;32m     37\u001b[0m         \u001b[0;31m# Global Average Pooling & Output\u001b[0m\u001b[0;34m\u001b[0m\u001b[0;34m\u001b[0m\u001b[0m\n",
            "\u001b[0;32m/usr/local/lib/python3.11/dist-packages/torch/nn/modules/module.py\u001b[0m in \u001b[0;36m_wrapped_call_impl\u001b[0;34m(self, *args, **kwargs)\u001b[0m\n\u001b[1;32m   1734\u001b[0m             \u001b[0;32mreturn\u001b[0m \u001b[0mself\u001b[0m\u001b[0;34m.\u001b[0m\u001b[0m_compiled_call_impl\u001b[0m\u001b[0;34m(\u001b[0m\u001b[0;34m*\u001b[0m\u001b[0margs\u001b[0m\u001b[0;34m,\u001b[0m \u001b[0;34m**\u001b[0m\u001b[0mkwargs\u001b[0m\u001b[0;34m)\u001b[0m  \u001b[0;31m# type: ignore[misc]\u001b[0m\u001b[0;34m\u001b[0m\u001b[0;34m\u001b[0m\u001b[0m\n\u001b[1;32m   1735\u001b[0m         \u001b[0;32melse\u001b[0m\u001b[0;34m:\u001b[0m\u001b[0;34m\u001b[0m\u001b[0;34m\u001b[0m\u001b[0m\n\u001b[0;32m-> 1736\u001b[0;31m             \u001b[0;32mreturn\u001b[0m \u001b[0mself\u001b[0m\u001b[0;34m.\u001b[0m\u001b[0m_call_impl\u001b[0m\u001b[0;34m(\u001b[0m\u001b[0;34m*\u001b[0m\u001b[0margs\u001b[0m\u001b[0;34m,\u001b[0m \u001b[0;34m**\u001b[0m\u001b[0mkwargs\u001b[0m\u001b[0;34m)\u001b[0m\u001b[0;34m\u001b[0m\u001b[0;34m\u001b[0m\u001b[0m\n\u001b[0m\u001b[1;32m   1737\u001b[0m \u001b[0;34m\u001b[0m\u001b[0m\n\u001b[1;32m   1738\u001b[0m     \u001b[0;31m# torchrec tests the code consistency with the following code\u001b[0m\u001b[0;34m\u001b[0m\u001b[0;34m\u001b[0m\u001b[0m\n",
            "\u001b[0;32m/usr/local/lib/python3.11/dist-packages/torch/nn/modules/module.py\u001b[0m in \u001b[0;36m_call_impl\u001b[0;34m(self, *args, **kwargs)\u001b[0m\n\u001b[1;32m   1745\u001b[0m                 \u001b[0;32mor\u001b[0m \u001b[0m_global_backward_pre_hooks\u001b[0m \u001b[0;32mor\u001b[0m \u001b[0m_global_backward_hooks\u001b[0m\u001b[0;34m\u001b[0m\u001b[0;34m\u001b[0m\u001b[0m\n\u001b[1;32m   1746\u001b[0m                 or _global_forward_hooks or _global_forward_pre_hooks):\n\u001b[0;32m-> 1747\u001b[0;31m             \u001b[0;32mreturn\u001b[0m \u001b[0mforward_call\u001b[0m\u001b[0;34m(\u001b[0m\u001b[0;34m*\u001b[0m\u001b[0margs\u001b[0m\u001b[0;34m,\u001b[0m \u001b[0;34m**\u001b[0m\u001b[0mkwargs\u001b[0m\u001b[0;34m)\u001b[0m\u001b[0;34m\u001b[0m\u001b[0;34m\u001b[0m\u001b[0m\n\u001b[0m\u001b[1;32m   1748\u001b[0m \u001b[0;34m\u001b[0m\u001b[0m\n\u001b[1;32m   1749\u001b[0m         \u001b[0mresult\u001b[0m \u001b[0;34m=\u001b[0m \u001b[0;32mNone\u001b[0m\u001b[0;34m\u001b[0m\u001b[0;34m\u001b[0m\u001b[0m\n",
            "\u001b[0;32m/usr/local/lib/python3.11/dist-packages/torch/nn/modules/transformer.py\u001b[0m in \u001b[0;36mforward\u001b[0;34m(self, src, mask, src_key_padding_mask, is_causal)\u001b[0m\n\u001b[1;32m    509\u001b[0m \u001b[0;34m\u001b[0m\u001b[0m\n\u001b[1;32m    510\u001b[0m         \u001b[0;32mfor\u001b[0m \u001b[0mmod\u001b[0m \u001b[0;32min\u001b[0m \u001b[0mself\u001b[0m\u001b[0;34m.\u001b[0m\u001b[0mlayers\u001b[0m\u001b[0;34m:\u001b[0m\u001b[0;34m\u001b[0m\u001b[0;34m\u001b[0m\u001b[0m\n\u001b[0;32m--> 511\u001b[0;31m             output = mod(\n\u001b[0m\u001b[1;32m    512\u001b[0m                 \u001b[0moutput\u001b[0m\u001b[0;34m,\u001b[0m\u001b[0;34m\u001b[0m\u001b[0;34m\u001b[0m\u001b[0m\n\u001b[1;32m    513\u001b[0m                 \u001b[0msrc_mask\u001b[0m\u001b[0;34m=\u001b[0m\u001b[0mmask\u001b[0m\u001b[0;34m,\u001b[0m\u001b[0;34m\u001b[0m\u001b[0;34m\u001b[0m\u001b[0m\n",
            "\u001b[0;32m/usr/local/lib/python3.11/dist-packages/torch/nn/modules/module.py\u001b[0m in \u001b[0;36m_wrapped_call_impl\u001b[0;34m(self, *args, **kwargs)\u001b[0m\n\u001b[1;32m   1734\u001b[0m             \u001b[0;32mreturn\u001b[0m \u001b[0mself\u001b[0m\u001b[0;34m.\u001b[0m\u001b[0m_compiled_call_impl\u001b[0m\u001b[0;34m(\u001b[0m\u001b[0;34m*\u001b[0m\u001b[0margs\u001b[0m\u001b[0;34m,\u001b[0m \u001b[0;34m**\u001b[0m\u001b[0mkwargs\u001b[0m\u001b[0;34m)\u001b[0m  \u001b[0;31m# type: ignore[misc]\u001b[0m\u001b[0;34m\u001b[0m\u001b[0;34m\u001b[0m\u001b[0m\n\u001b[1;32m   1735\u001b[0m         \u001b[0;32melse\u001b[0m\u001b[0;34m:\u001b[0m\u001b[0;34m\u001b[0m\u001b[0;34m\u001b[0m\u001b[0m\n\u001b[0;32m-> 1736\u001b[0;31m             \u001b[0;32mreturn\u001b[0m \u001b[0mself\u001b[0m\u001b[0;34m.\u001b[0m\u001b[0m_call_impl\u001b[0m\u001b[0;34m(\u001b[0m\u001b[0;34m*\u001b[0m\u001b[0margs\u001b[0m\u001b[0;34m,\u001b[0m \u001b[0;34m**\u001b[0m\u001b[0mkwargs\u001b[0m\u001b[0;34m)\u001b[0m\u001b[0;34m\u001b[0m\u001b[0;34m\u001b[0m\u001b[0m\n\u001b[0m\u001b[1;32m   1737\u001b[0m \u001b[0;34m\u001b[0m\u001b[0m\n\u001b[1;32m   1738\u001b[0m     \u001b[0;31m# torchrec tests the code consistency with the following code\u001b[0m\u001b[0;34m\u001b[0m\u001b[0;34m\u001b[0m\u001b[0m\n",
            "\u001b[0;32m/usr/local/lib/python3.11/dist-packages/torch/nn/modules/module.py\u001b[0m in \u001b[0;36m_call_impl\u001b[0;34m(self, *args, **kwargs)\u001b[0m\n\u001b[1;32m   1745\u001b[0m                 \u001b[0;32mor\u001b[0m \u001b[0m_global_backward_pre_hooks\u001b[0m \u001b[0;32mor\u001b[0m \u001b[0m_global_backward_hooks\u001b[0m\u001b[0;34m\u001b[0m\u001b[0;34m\u001b[0m\u001b[0m\n\u001b[1;32m   1746\u001b[0m                 or _global_forward_hooks or _global_forward_pre_hooks):\n\u001b[0;32m-> 1747\u001b[0;31m             \u001b[0;32mreturn\u001b[0m \u001b[0mforward_call\u001b[0m\u001b[0;34m(\u001b[0m\u001b[0;34m*\u001b[0m\u001b[0margs\u001b[0m\u001b[0;34m,\u001b[0m \u001b[0;34m**\u001b[0m\u001b[0mkwargs\u001b[0m\u001b[0;34m)\u001b[0m\u001b[0;34m\u001b[0m\u001b[0;34m\u001b[0m\u001b[0m\n\u001b[0m\u001b[1;32m   1748\u001b[0m \u001b[0;34m\u001b[0m\u001b[0m\n\u001b[1;32m   1749\u001b[0m         \u001b[0mresult\u001b[0m \u001b[0;34m=\u001b[0m \u001b[0;32mNone\u001b[0m\u001b[0;34m\u001b[0m\u001b[0;34m\u001b[0m\u001b[0m\n",
            "\u001b[0;32m/usr/local/lib/python3.11/dist-packages/torch/nn/modules/transformer.py\u001b[0m in \u001b[0;36mforward\u001b[0;34m(self, src, src_mask, src_key_padding_mask, is_causal)\u001b[0m\n\u001b[1;32m    904\u001b[0m                 \u001b[0;34m+\u001b[0m \u001b[0mself\u001b[0m\u001b[0;34m.\u001b[0m\u001b[0m_sa_block\u001b[0m\u001b[0;34m(\u001b[0m\u001b[0mx\u001b[0m\u001b[0;34m,\u001b[0m \u001b[0msrc_mask\u001b[0m\u001b[0;34m,\u001b[0m \u001b[0msrc_key_padding_mask\u001b[0m\u001b[0;34m,\u001b[0m \u001b[0mis_causal\u001b[0m\u001b[0;34m=\u001b[0m\u001b[0mis_causal\u001b[0m\u001b[0;34m)\u001b[0m\u001b[0;34m\u001b[0m\u001b[0;34m\u001b[0m\u001b[0m\n\u001b[1;32m    905\u001b[0m             )\n\u001b[0;32m--> 906\u001b[0;31m             \u001b[0mx\u001b[0m \u001b[0;34m=\u001b[0m \u001b[0mself\u001b[0m\u001b[0;34m.\u001b[0m\u001b[0mnorm2\u001b[0m\u001b[0;34m(\u001b[0m\u001b[0mx\u001b[0m \u001b[0;34m+\u001b[0m \u001b[0mself\u001b[0m\u001b[0;34m.\u001b[0m\u001b[0m_ff_block\u001b[0m\u001b[0;34m(\u001b[0m\u001b[0mx\u001b[0m\u001b[0;34m)\u001b[0m\u001b[0;34m)\u001b[0m\u001b[0;34m\u001b[0m\u001b[0;34m\u001b[0m\u001b[0m\n\u001b[0m\u001b[1;32m    907\u001b[0m \u001b[0;34m\u001b[0m\u001b[0m\n\u001b[1;32m    908\u001b[0m         \u001b[0;32mreturn\u001b[0m \u001b[0mx\u001b[0m\u001b[0;34m\u001b[0m\u001b[0;34m\u001b[0m\u001b[0m\n",
            "\u001b[0;32m/usr/local/lib/python3.11/dist-packages/torch/nn/modules/transformer.py\u001b[0m in \u001b[0;36m_ff_block\u001b[0;34m(self, x)\u001b[0m\n\u001b[1;32m    930\u001b[0m     \u001b[0;32mdef\u001b[0m \u001b[0m_ff_block\u001b[0m\u001b[0;34m(\u001b[0m\u001b[0mself\u001b[0m\u001b[0;34m,\u001b[0m \u001b[0mx\u001b[0m\u001b[0;34m:\u001b[0m \u001b[0mTensor\u001b[0m\u001b[0;34m)\u001b[0m \u001b[0;34m->\u001b[0m \u001b[0mTensor\u001b[0m\u001b[0;34m:\u001b[0m\u001b[0;34m\u001b[0m\u001b[0;34m\u001b[0m\u001b[0m\n\u001b[1;32m    931\u001b[0m         \u001b[0mx\u001b[0m \u001b[0;34m=\u001b[0m \u001b[0mself\u001b[0m\u001b[0;34m.\u001b[0m\u001b[0mlinear2\u001b[0m\u001b[0;34m(\u001b[0m\u001b[0mself\u001b[0m\u001b[0;34m.\u001b[0m\u001b[0mdropout\u001b[0m\u001b[0;34m(\u001b[0m\u001b[0mself\u001b[0m\u001b[0;34m.\u001b[0m\u001b[0mactivation\u001b[0m\u001b[0;34m(\u001b[0m\u001b[0mself\u001b[0m\u001b[0;34m.\u001b[0m\u001b[0mlinear1\u001b[0m\u001b[0;34m(\u001b[0m\u001b[0mx\u001b[0m\u001b[0;34m)\u001b[0m\u001b[0;34m)\u001b[0m\u001b[0;34m)\u001b[0m\u001b[0;34m)\u001b[0m\u001b[0;34m\u001b[0m\u001b[0;34m\u001b[0m\u001b[0m\n\u001b[0;32m--> 932\u001b[0;31m         \u001b[0;32mreturn\u001b[0m \u001b[0mself\u001b[0m\u001b[0;34m.\u001b[0m\u001b[0mdropout2\u001b[0m\u001b[0;34m(\u001b[0m\u001b[0mx\u001b[0m\u001b[0;34m)\u001b[0m\u001b[0;34m\u001b[0m\u001b[0;34m\u001b[0m\u001b[0m\n\u001b[0m\u001b[1;32m    933\u001b[0m \u001b[0;34m\u001b[0m\u001b[0m\n\u001b[1;32m    934\u001b[0m \u001b[0;34m\u001b[0m\u001b[0m\n",
            "\u001b[0;32m/usr/local/lib/python3.11/dist-packages/torch/nn/modules/module.py\u001b[0m in \u001b[0;36m_wrapped_call_impl\u001b[0;34m(self, *args, **kwargs)\u001b[0m\n\u001b[1;32m   1734\u001b[0m             \u001b[0;32mreturn\u001b[0m \u001b[0mself\u001b[0m\u001b[0;34m.\u001b[0m\u001b[0m_compiled_call_impl\u001b[0m\u001b[0;34m(\u001b[0m\u001b[0;34m*\u001b[0m\u001b[0margs\u001b[0m\u001b[0;34m,\u001b[0m \u001b[0;34m**\u001b[0m\u001b[0mkwargs\u001b[0m\u001b[0;34m)\u001b[0m  \u001b[0;31m# type: ignore[misc]\u001b[0m\u001b[0;34m\u001b[0m\u001b[0;34m\u001b[0m\u001b[0m\n\u001b[1;32m   1735\u001b[0m         \u001b[0;32melse\u001b[0m\u001b[0;34m:\u001b[0m\u001b[0;34m\u001b[0m\u001b[0;34m\u001b[0m\u001b[0m\n\u001b[0;32m-> 1736\u001b[0;31m             \u001b[0;32mreturn\u001b[0m \u001b[0mself\u001b[0m\u001b[0;34m.\u001b[0m\u001b[0m_call_impl\u001b[0m\u001b[0;34m(\u001b[0m\u001b[0;34m*\u001b[0m\u001b[0margs\u001b[0m\u001b[0;34m,\u001b[0m \u001b[0;34m**\u001b[0m\u001b[0mkwargs\u001b[0m\u001b[0;34m)\u001b[0m\u001b[0;34m\u001b[0m\u001b[0;34m\u001b[0m\u001b[0m\n\u001b[0m\u001b[1;32m   1737\u001b[0m \u001b[0;34m\u001b[0m\u001b[0m\n\u001b[1;32m   1738\u001b[0m     \u001b[0;31m# torchrec tests the code consistency with the following code\u001b[0m\u001b[0;34m\u001b[0m\u001b[0;34m\u001b[0m\u001b[0m\n",
            "\u001b[0;32m/usr/local/lib/python3.11/dist-packages/torch/nn/modules/module.py\u001b[0m in \u001b[0;36m_call_impl\u001b[0;34m(self, *args, **kwargs)\u001b[0m\n\u001b[1;32m   1745\u001b[0m                 \u001b[0;32mor\u001b[0m \u001b[0m_global_backward_pre_hooks\u001b[0m \u001b[0;32mor\u001b[0m \u001b[0m_global_backward_hooks\u001b[0m\u001b[0;34m\u001b[0m\u001b[0;34m\u001b[0m\u001b[0m\n\u001b[1;32m   1746\u001b[0m                 or _global_forward_hooks or _global_forward_pre_hooks):\n\u001b[0;32m-> 1747\u001b[0;31m             \u001b[0;32mreturn\u001b[0m \u001b[0mforward_call\u001b[0m\u001b[0;34m(\u001b[0m\u001b[0;34m*\u001b[0m\u001b[0margs\u001b[0m\u001b[0;34m,\u001b[0m \u001b[0;34m**\u001b[0m\u001b[0mkwargs\u001b[0m\u001b[0;34m)\u001b[0m\u001b[0;34m\u001b[0m\u001b[0;34m\u001b[0m\u001b[0m\n\u001b[0m\u001b[1;32m   1748\u001b[0m \u001b[0;34m\u001b[0m\u001b[0m\n\u001b[1;32m   1749\u001b[0m         \u001b[0mresult\u001b[0m \u001b[0;34m=\u001b[0m \u001b[0;32mNone\u001b[0m\u001b[0;34m\u001b[0m\u001b[0;34m\u001b[0m\u001b[0m\n",
            "\u001b[0;32m/usr/local/lib/python3.11/dist-packages/torch/nn/modules/dropout.py\u001b[0m in \u001b[0;36mforward\u001b[0;34m(self, input)\u001b[0m\n\u001b[1;32m     68\u001b[0m \u001b[0;34m\u001b[0m\u001b[0m\n\u001b[1;32m     69\u001b[0m     \u001b[0;32mdef\u001b[0m \u001b[0mforward\u001b[0m\u001b[0;34m(\u001b[0m\u001b[0mself\u001b[0m\u001b[0;34m,\u001b[0m \u001b[0minput\u001b[0m\u001b[0;34m:\u001b[0m \u001b[0mTensor\u001b[0m\u001b[0;34m)\u001b[0m \u001b[0;34m->\u001b[0m \u001b[0mTensor\u001b[0m\u001b[0;34m:\u001b[0m\u001b[0;34m\u001b[0m\u001b[0;34m\u001b[0m\u001b[0m\n\u001b[0;32m---> 70\u001b[0;31m         \u001b[0;32mreturn\u001b[0m \u001b[0mF\u001b[0m\u001b[0;34m.\u001b[0m\u001b[0mdropout\u001b[0m\u001b[0;34m(\u001b[0m\u001b[0minput\u001b[0m\u001b[0;34m,\u001b[0m \u001b[0mself\u001b[0m\u001b[0;34m.\u001b[0m\u001b[0mp\u001b[0m\u001b[0;34m,\u001b[0m \u001b[0mself\u001b[0m\u001b[0;34m.\u001b[0m\u001b[0mtraining\u001b[0m\u001b[0;34m,\u001b[0m \u001b[0mself\u001b[0m\u001b[0;34m.\u001b[0m\u001b[0minplace\u001b[0m\u001b[0;34m)\u001b[0m\u001b[0;34m\u001b[0m\u001b[0;34m\u001b[0m\u001b[0m\n\u001b[0m\u001b[1;32m     71\u001b[0m \u001b[0;34m\u001b[0m\u001b[0m\n\u001b[1;32m     72\u001b[0m \u001b[0;34m\u001b[0m\u001b[0m\n",
            "\u001b[0;32m/usr/local/lib/python3.11/dist-packages/torch/nn/functional.py\u001b[0m in \u001b[0;36mdropout\u001b[0;34m(input, p, training, inplace)\u001b[0m\n\u001b[1;32m   1423\u001b[0m         \u001b[0;32mraise\u001b[0m \u001b[0mValueError\u001b[0m\u001b[0;34m(\u001b[0m\u001b[0;34mf\"dropout probability has to be between 0 and 1, but got {p}\"\u001b[0m\u001b[0;34m)\u001b[0m\u001b[0;34m\u001b[0m\u001b[0;34m\u001b[0m\u001b[0m\n\u001b[1;32m   1424\u001b[0m     return (\n\u001b[0;32m-> 1425\u001b[0;31m         \u001b[0m_VF\u001b[0m\u001b[0;34m.\u001b[0m\u001b[0mdropout_\u001b[0m\u001b[0;34m(\u001b[0m\u001b[0minput\u001b[0m\u001b[0;34m,\u001b[0m \u001b[0mp\u001b[0m\u001b[0;34m,\u001b[0m \u001b[0mtraining\u001b[0m\u001b[0;34m)\u001b[0m \u001b[0;32mif\u001b[0m \u001b[0minplace\u001b[0m \u001b[0;32melse\u001b[0m \u001b[0m_VF\u001b[0m\u001b[0;34m.\u001b[0m\u001b[0mdropout\u001b[0m\u001b[0;34m(\u001b[0m\u001b[0minput\u001b[0m\u001b[0;34m,\u001b[0m \u001b[0mp\u001b[0m\u001b[0;34m,\u001b[0m \u001b[0mtraining\u001b[0m\u001b[0;34m)\u001b[0m\u001b[0;34m\u001b[0m\u001b[0;34m\u001b[0m\u001b[0m\n\u001b[0m\u001b[1;32m   1426\u001b[0m     )\n\u001b[1;32m   1427\u001b[0m \u001b[0;34m\u001b[0m\u001b[0m\n",
            "\u001b[0;31mKeyboardInterrupt\u001b[0m: "
          ]
        }
      ]
    }
  ]
}